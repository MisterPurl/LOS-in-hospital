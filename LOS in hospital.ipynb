{
 "cells": [
  {
   "cell_type": "code",
   "execution_count": 257,
   "metadata": {
    "ExecuteTime": {
     "end_time": "2020-11-24T20:37:06.771701Z",
     "start_time": "2020-11-24T20:37:06.767907Z"
    }
   },
   "outputs": [],
   "source": [
    "import numpy as np\n",
    "import pandas as pd\n",
    "import seaborn as sns\n",
    "from sklearn.metrics import roc_auc_score,roc_curve, auc,f1_score,ConfusionMatrixDisplay,confusion_matrix\n",
    "from sklearn.preprocessing import StandardScaler, MinMaxScaler\n",
    "import matplotlib.pyplot as plt"
   ]
  },
  {
   "cell_type": "markdown",
   "metadata": {},
   "source": [
    "# data analysis\n",
    "\n",
    "## columns \n",
    "eid\n",
    "vdate\n",
    "rcount\n",
    "gender\n",
    "dialysisrenalendstage\n",
    "asthma\n",
    "irondef\n",
    "pneum\n",
    "substancedependence\n",
    "psychologicaldisordermajor\n",
    "depress\n",
    "psychother\n",
    "fibrosisandother\n",
    "malnutrition\n",
    "hemo\n",
    "hematocrit\n",
    "neutrophils\n",
    "sodium\n",
    "glucose\n",
    "bloodureanitro\n",
    "creatinine\n",
    "bmi\n",
    "pulse\n",
    "respiration\n",
    "secondarydiagnosisnonicd9\n",
    "discharged\n",
    "facid\n",
    "\n",
    "Target = lengthofstay"
   ]
  },
  {
   "cell_type": "code",
   "execution_count": 132,
   "metadata": {
    "ExecuteTime": {
     "end_time": "2020-11-24T13:04:50.656887Z",
     "start_time": "2020-11-24T13:04:50.374964Z"
    }
   },
   "outputs": [],
   "source": [
    "data = pd.read_csv(\"/Users/anthonycoplo/Desktop/LengthOfStay - Copy _2_.csv\")"
   ]
  },
  {
   "cell_type": "code",
   "execution_count": 133,
   "metadata": {
    "ExecuteTime": {
     "end_time": "2020-11-24T13:04:51.765100Z",
     "start_time": "2020-11-24T13:04:51.672620Z"
    }
   },
   "outputs": [
    {
     "data": {
      "text/html": [
       "<div>\n",
       "<style scoped>\n",
       "    .dataframe tbody tr th:only-of-type {\n",
       "        vertical-align: middle;\n",
       "    }\n",
       "\n",
       "    .dataframe tbody tr th {\n",
       "        vertical-align: top;\n",
       "    }\n",
       "\n",
       "    .dataframe thead th {\n",
       "        text-align: right;\n",
       "    }\n",
       "</style>\n",
       "<table border=\"1\" class=\"dataframe\">\n",
       "  <thead>\n",
       "    <tr style=\"text-align: right;\">\n",
       "      <th></th>\n",
       "      <th>eid</th>\n",
       "      <th>vdate</th>\n",
       "      <th>rcount</th>\n",
       "      <th>gender</th>\n",
       "      <th>dialysisrenalendstage</th>\n",
       "      <th>asthma</th>\n",
       "      <th>irondef</th>\n",
       "      <th>pneum</th>\n",
       "      <th>substancedependence</th>\n",
       "      <th>psychologicaldisordermajor</th>\n",
       "      <th>...</th>\n",
       "      <th>glucose</th>\n",
       "      <th>bloodureanitro</th>\n",
       "      <th>creatinine</th>\n",
       "      <th>bmi</th>\n",
       "      <th>pulse</th>\n",
       "      <th>respiration</th>\n",
       "      <th>secondarydiagnosisnonicd9</th>\n",
       "      <th>discharged</th>\n",
       "      <th>facid</th>\n",
       "      <th>lengthofstay</th>\n",
       "    </tr>\n",
       "  </thead>\n",
       "  <tbody>\n",
       "    <tr>\n",
       "      <th>0</th>\n",
       "      <td>1</td>\n",
       "      <td>8/29/2012</td>\n",
       "      <td>0</td>\n",
       "      <td>F</td>\n",
       "      <td>0</td>\n",
       "      <td>0</td>\n",
       "      <td>0</td>\n",
       "      <td>0</td>\n",
       "      <td>0</td>\n",
       "      <td>0</td>\n",
       "      <td>...</td>\n",
       "      <td>192.476918</td>\n",
       "      <td>12.0</td>\n",
       "      <td>1.390722</td>\n",
       "      <td>30.432418</td>\n",
       "      <td>96</td>\n",
       "      <td>6.5</td>\n",
       "      <td>4</td>\n",
       "      <td>9/1/2012</td>\n",
       "      <td>B</td>\n",
       "      <td>3</td>\n",
       "    </tr>\n",
       "    <tr>\n",
       "      <th>1</th>\n",
       "      <td>2</td>\n",
       "      <td>5/26/2012</td>\n",
       "      <td>5+</td>\n",
       "      <td>F</td>\n",
       "      <td>0</td>\n",
       "      <td>0</td>\n",
       "      <td>0</td>\n",
       "      <td>0</td>\n",
       "      <td>0</td>\n",
       "      <td>0</td>\n",
       "      <td>...</td>\n",
       "      <td>94.078507</td>\n",
       "      <td>8.0</td>\n",
       "      <td>0.943164</td>\n",
       "      <td>28.460516</td>\n",
       "      <td>61</td>\n",
       "      <td>6.5</td>\n",
       "      <td>1</td>\n",
       "      <td>6/2/2012</td>\n",
       "      <td>A</td>\n",
       "      <td>7</td>\n",
       "    </tr>\n",
       "    <tr>\n",
       "      <th>2</th>\n",
       "      <td>3</td>\n",
       "      <td>9/22/2012</td>\n",
       "      <td>1</td>\n",
       "      <td>F</td>\n",
       "      <td>0</td>\n",
       "      <td>0</td>\n",
       "      <td>0</td>\n",
       "      <td>0</td>\n",
       "      <td>0</td>\n",
       "      <td>0</td>\n",
       "      <td>...</td>\n",
       "      <td>130.530524</td>\n",
       "      <td>12.0</td>\n",
       "      <td>1.065750</td>\n",
       "      <td>28.843812</td>\n",
       "      <td>64</td>\n",
       "      <td>6.5</td>\n",
       "      <td>2</td>\n",
       "      <td>9/25/2012</td>\n",
       "      <td>B</td>\n",
       "      <td>3</td>\n",
       "    </tr>\n",
       "    <tr>\n",
       "      <th>3</th>\n",
       "      <td>4</td>\n",
       "      <td>8/9/2012</td>\n",
       "      <td>0</td>\n",
       "      <td>F</td>\n",
       "      <td>0</td>\n",
       "      <td>0</td>\n",
       "      <td>0</td>\n",
       "      <td>0</td>\n",
       "      <td>0</td>\n",
       "      <td>0</td>\n",
       "      <td>...</td>\n",
       "      <td>163.377028</td>\n",
       "      <td>12.0</td>\n",
       "      <td>0.906862</td>\n",
       "      <td>27.959007</td>\n",
       "      <td>76</td>\n",
       "      <td>6.5</td>\n",
       "      <td>1</td>\n",
       "      <td>8/10/2012</td>\n",
       "      <td>A</td>\n",
       "      <td>1</td>\n",
       "    </tr>\n",
       "    <tr>\n",
       "      <th>4</th>\n",
       "      <td>5</td>\n",
       "      <td>12/20/2012</td>\n",
       "      <td>0</td>\n",
       "      <td>F</td>\n",
       "      <td>0</td>\n",
       "      <td>0</td>\n",
       "      <td>0</td>\n",
       "      <td>1</td>\n",
       "      <td>0</td>\n",
       "      <td>1</td>\n",
       "      <td>...</td>\n",
       "      <td>94.886654</td>\n",
       "      <td>11.5</td>\n",
       "      <td>1.242854</td>\n",
       "      <td>30.258927</td>\n",
       "      <td>67</td>\n",
       "      <td>5.6</td>\n",
       "      <td>2</td>\n",
       "      <td>12/24/2012</td>\n",
       "      <td>E</td>\n",
       "      <td>4</td>\n",
       "    </tr>\n",
       "    <tr>\n",
       "      <th>...</th>\n",
       "      <td>...</td>\n",
       "      <td>...</td>\n",
       "      <td>...</td>\n",
       "      <td>...</td>\n",
       "      <td>...</td>\n",
       "      <td>...</td>\n",
       "      <td>...</td>\n",
       "      <td>...</td>\n",
       "      <td>...</td>\n",
       "      <td>...</td>\n",
       "      <td>...</td>\n",
       "      <td>...</td>\n",
       "      <td>...</td>\n",
       "      <td>...</td>\n",
       "      <td>...</td>\n",
       "      <td>...</td>\n",
       "      <td>...</td>\n",
       "      <td>...</td>\n",
       "      <td>...</td>\n",
       "      <td>...</td>\n",
       "      <td>...</td>\n",
       "    </tr>\n",
       "    <tr>\n",
       "      <th>99995</th>\n",
       "      <td>99996</td>\n",
       "      <td>1/28/2012</td>\n",
       "      <td>3</td>\n",
       "      <td>M</td>\n",
       "      <td>0</td>\n",
       "      <td>0</td>\n",
       "      <td>0</td>\n",
       "      <td>0</td>\n",
       "      <td>0</td>\n",
       "      <td>0</td>\n",
       "      <td>...</td>\n",
       "      <td>171.422555</td>\n",
       "      <td>12.0</td>\n",
       "      <td>0.650323</td>\n",
       "      <td>30.063069</td>\n",
       "      <td>80</td>\n",
       "      <td>6.5</td>\n",
       "      <td>1</td>\n",
       "      <td>2/3/2012</td>\n",
       "      <td>B</td>\n",
       "      <td>6</td>\n",
       "    </tr>\n",
       "    <tr>\n",
       "      <th>99996</th>\n",
       "      <td>99997</td>\n",
       "      <td>8/6/2012</td>\n",
       "      <td>0</td>\n",
       "      <td>M</td>\n",
       "      <td>0</td>\n",
       "      <td>0</td>\n",
       "      <td>0</td>\n",
       "      <td>0</td>\n",
       "      <td>0</td>\n",
       "      <td>0</td>\n",
       "      <td>...</td>\n",
       "      <td>122.342450</td>\n",
       "      <td>12.0</td>\n",
       "      <td>1.521424</td>\n",
       "      <td>28.969548</td>\n",
       "      <td>61</td>\n",
       "      <td>6.5</td>\n",
       "      <td>1</td>\n",
       "      <td>8/7/2012</td>\n",
       "      <td>B</td>\n",
       "      <td>1</td>\n",
       "    </tr>\n",
       "    <tr>\n",
       "      <th>99997</th>\n",
       "      <td>99998</td>\n",
       "      <td>7/23/2012</td>\n",
       "      <td>1</td>\n",
       "      <td>M</td>\n",
       "      <td>0</td>\n",
       "      <td>0</td>\n",
       "      <td>1</td>\n",
       "      <td>0</td>\n",
       "      <td>0</td>\n",
       "      <td>0</td>\n",
       "      <td>...</td>\n",
       "      <td>108.288106</td>\n",
       "      <td>12.0</td>\n",
       "      <td>1.025677</td>\n",
       "      <td>26.354919</td>\n",
       "      <td>61</td>\n",
       "      <td>6.9</td>\n",
       "      <td>1</td>\n",
       "      <td>7/27/2012</td>\n",
       "      <td>C</td>\n",
       "      <td>4</td>\n",
       "    </tr>\n",
       "    <tr>\n",
       "      <th>99998</th>\n",
       "      <td>99999</td>\n",
       "      <td>12/19/2012</td>\n",
       "      <td>0</td>\n",
       "      <td>M</td>\n",
       "      <td>0</td>\n",
       "      <td>0</td>\n",
       "      <td>0</td>\n",
       "      <td>0</td>\n",
       "      <td>0</td>\n",
       "      <td>0</td>\n",
       "      <td>...</td>\n",
       "      <td>111.750731</td>\n",
       "      <td>16.0</td>\n",
       "      <td>1.035400</td>\n",
       "      <td>29.193462</td>\n",
       "      <td>59</td>\n",
       "      <td>5.6</td>\n",
       "      <td>1</td>\n",
       "      <td>12/23/2012</td>\n",
       "      <td>B</td>\n",
       "      <td>4</td>\n",
       "    </tr>\n",
       "    <tr>\n",
       "      <th>99999</th>\n",
       "      <td>100000</td>\n",
       "      <td>3/6/2012</td>\n",
       "      <td>0</td>\n",
       "      <td>F</td>\n",
       "      <td>0</td>\n",
       "      <td>0</td>\n",
       "      <td>0</td>\n",
       "      <td>0</td>\n",
       "      <td>0</td>\n",
       "      <td>0</td>\n",
       "      <td>...</td>\n",
       "      <td>149.572205</td>\n",
       "      <td>12.0</td>\n",
       "      <td>0.813004</td>\n",
       "      <td>25.175760</td>\n",
       "      <td>74</td>\n",
       "      <td>6.5</td>\n",
       "      <td>4</td>\n",
       "      <td>3/8/2012</td>\n",
       "      <td>B</td>\n",
       "      <td>2</td>\n",
       "    </tr>\n",
       "  </tbody>\n",
       "</table>\n",
       "<p>100000 rows × 28 columns</p>\n",
       "</div>"
      ],
      "text/plain": [
       "          eid       vdate rcount gender  dialysisrenalendstage  asthma  \\\n",
       "0           1   8/29/2012      0      F                      0       0   \n",
       "1           2   5/26/2012     5+      F                      0       0   \n",
       "2           3   9/22/2012      1      F                      0       0   \n",
       "3           4    8/9/2012      0      F                      0       0   \n",
       "4           5  12/20/2012      0      F                      0       0   \n",
       "...       ...         ...    ...    ...                    ...     ...   \n",
       "99995   99996   1/28/2012      3      M                      0       0   \n",
       "99996   99997    8/6/2012      0      M                      0       0   \n",
       "99997   99998   7/23/2012      1      M                      0       0   \n",
       "99998   99999  12/19/2012      0      M                      0       0   \n",
       "99999  100000    3/6/2012      0      F                      0       0   \n",
       "\n",
       "       irondef  pneum  substancedependence  psychologicaldisordermajor  ...  \\\n",
       "0            0      0                    0                           0  ...   \n",
       "1            0      0                    0                           0  ...   \n",
       "2            0      0                    0                           0  ...   \n",
       "3            0      0                    0                           0  ...   \n",
       "4            0      1                    0                           1  ...   \n",
       "...        ...    ...                  ...                         ...  ...   \n",
       "99995        0      0                    0                           0  ...   \n",
       "99996        0      0                    0                           0  ...   \n",
       "99997        1      0                    0                           0  ...   \n",
       "99998        0      0                    0                           0  ...   \n",
       "99999        0      0                    0                           0  ...   \n",
       "\n",
       "          glucose  bloodureanitro  creatinine        bmi  pulse  respiration  \\\n",
       "0      192.476918            12.0    1.390722  30.432418     96          6.5   \n",
       "1       94.078507             8.0    0.943164  28.460516     61          6.5   \n",
       "2      130.530524            12.0    1.065750  28.843812     64          6.5   \n",
       "3      163.377028            12.0    0.906862  27.959007     76          6.5   \n",
       "4       94.886654            11.5    1.242854  30.258927     67          5.6   \n",
       "...           ...             ...         ...        ...    ...          ...   \n",
       "99995  171.422555            12.0    0.650323  30.063069     80          6.5   \n",
       "99996  122.342450            12.0    1.521424  28.969548     61          6.5   \n",
       "99997  108.288106            12.0    1.025677  26.354919     61          6.9   \n",
       "99998  111.750731            16.0    1.035400  29.193462     59          5.6   \n",
       "99999  149.572205            12.0    0.813004  25.175760     74          6.5   \n",
       "\n",
       "       secondarydiagnosisnonicd9  discharged  facid  lengthofstay  \n",
       "0                              4    9/1/2012      B             3  \n",
       "1                              1    6/2/2012      A             7  \n",
       "2                              2   9/25/2012      B             3  \n",
       "3                              1   8/10/2012      A             1  \n",
       "4                              2  12/24/2012      E             4  \n",
       "...                          ...         ...    ...           ...  \n",
       "99995                          1    2/3/2012      B             6  \n",
       "99996                          1    8/7/2012      B             1  \n",
       "99997                          1   7/27/2012      C             4  \n",
       "99998                          1  12/23/2012      B             4  \n",
       "99999                          4    3/8/2012      B             2  \n",
       "\n",
       "[100000 rows x 28 columns]"
      ]
     },
     "execution_count": 133,
     "metadata": {},
     "output_type": "execute_result"
    }
   ],
   "source": [
    "data"
   ]
  },
  {
   "cell_type": "code",
   "execution_count": 134,
   "metadata": {
    "ExecuteTime": {
     "end_time": "2020-11-24T13:04:53.300334Z",
     "start_time": "2020-11-24T13:04:53.295963Z"
    }
   },
   "outputs": [
    {
     "data": {
      "text/plain": [
       "Index(['eid', 'vdate', 'rcount', 'gender', 'dialysisrenalendstage', 'asthma',\n",
       "       'irondef', 'pneum', 'substancedependence', 'psychologicaldisordermajor',\n",
       "       'depress', 'psychother', 'fibrosisandother', 'malnutrition', 'hemo',\n",
       "       'hematocrit', 'neutrophils', 'sodium', 'glucose', 'bloodureanitro',\n",
       "       'creatinine', 'bmi', 'pulse', 'respiration',\n",
       "       'secondarydiagnosisnonicd9', 'discharged', 'facid', 'lengthofstay'],\n",
       "      dtype='object')"
      ]
     },
     "execution_count": 134,
     "metadata": {},
     "output_type": "execute_result"
    }
   ],
   "source": [
    "data.columns"
   ]
  },
  {
   "cell_type": "code",
   "execution_count": 135,
   "metadata": {
    "ExecuteTime": {
     "end_time": "2020-11-24T13:04:54.632753Z",
     "start_time": "2020-11-24T13:04:54.626838Z"
    }
   },
   "outputs": [
    {
     "data": {
      "text/plain": [
       "eid                             int64\n",
       "vdate                          object\n",
       "rcount                         object\n",
       "gender                         object\n",
       "dialysisrenalendstage           int64\n",
       "asthma                          int64\n",
       "irondef                         int64\n",
       "pneum                           int64\n",
       "substancedependence             int64\n",
       "psychologicaldisordermajor      int64\n",
       "depress                         int64\n",
       "psychother                      int64\n",
       "fibrosisandother                int64\n",
       "malnutrition                    int64\n",
       "hemo                            int64\n",
       "hematocrit                    float64\n",
       "neutrophils                   float64\n",
       "sodium                        float64\n",
       "glucose                       float64\n",
       "bloodureanitro                float64\n",
       "creatinine                    float64\n",
       "bmi                           float64\n",
       "pulse                           int64\n",
       "respiration                   float64\n",
       "secondarydiagnosisnonicd9       int64\n",
       "discharged                     object\n",
       "facid                          object\n",
       "lengthofstay                    int64\n",
       "dtype: object"
      ]
     },
     "execution_count": 135,
     "metadata": {},
     "output_type": "execute_result"
    }
   ],
   "source": [
    "data.dtypes"
   ]
  },
  {
   "cell_type": "code",
   "execution_count": 136,
   "metadata": {
    "ExecuteTime": {
     "end_time": "2020-11-24T13:04:56.580240Z",
     "start_time": "2020-11-24T13:04:56.473418Z"
    }
   },
   "outputs": [
    {
     "data": {
      "text/plain": [
       "<AxesSubplot:ylabel='None'>"
      ]
     },
     "execution_count": 136,
     "metadata": {},
     "output_type": "execute_result"
    },
    {
     "data": {
      "image/png": "[encoded data removed]",
      "text/plain": [
       "<Figure size 432x288 with 1 Axes>"
      ]
     },
     "metadata": {},
     "output_type": "display_data"
    }
   ],
   "source": [
    "data.dtypes.value_counts().plot.pie()"
   ]
  },
  {
   "cell_type": "markdown",
   "metadata": {},
   "source": [
    "### NaN"
   ]
  },
  {
   "cell_type": "code",
   "execution_count": 137,
   "metadata": {
    "ExecuteTime": {
     "end_time": "2020-11-24T13:04:59.063586Z",
     "start_time": "2020-11-24T13:04:59.027420Z"
    },
    "scrolled": true
   },
   "outputs": [
    {
     "data": {
      "text/plain": [
       "eid                           0.0\n",
       "discharged                    0.0\n",
       "secondarydiagnosisnonicd9     0.0\n",
       "respiration                   0.0\n",
       "pulse                         0.0\n",
       "bmi                           0.0\n",
       "creatinine                    0.0\n",
       "bloodureanitro                0.0\n",
       "glucose                       0.0\n",
       "sodium                        0.0\n",
       "neutrophils                   0.0\n",
       "hematocrit                    0.0\n",
       "hemo                          0.0\n",
       "malnutrition                  0.0\n",
       "fibrosisandother              0.0\n",
       "psychother                    0.0\n",
       "depress                       0.0\n",
       "psychologicaldisordermajor    0.0\n",
       "substancedependence           0.0\n",
       "pneum                         0.0\n",
       "irondef                       0.0\n",
       "asthma                        0.0\n",
       "dialysisrenalendstage         0.0\n",
       "gender                        0.0\n",
       "rcount                        0.0\n",
       "vdate                         0.0\n",
       "facid                         0.0\n",
       "lengthofstay                  0.0\n",
       "dtype: float64"
      ]
     },
     "execution_count": 137,
     "metadata": {},
     "output_type": "execute_result"
    }
   ],
   "source": [
    "(data.isna().sum()/data.shape[0]).sort_values(ascending = True)"
   ]
  },
  {
   "cell_type": "markdown",
   "metadata": {},
   "source": [
    "### Target analysis "
   ]
  },
  {
   "cell_type": "code",
   "execution_count": 96,
   "metadata": {
    "ExecuteTime": {
     "end_time": "2020-11-24T12:38:33.681097Z",
     "start_time": "2020-11-24T12:38:33.674468Z"
    }
   },
   "outputs": [
    {
     "data": {
      "text/plain": [
       "1     17979\n",
       "3     16068\n",
       "4     14822\n",
       "2     12825\n",
       "5     12116\n",
       "6     10362\n",
       "7      7263\n",
       "8      4652\n",
       "9      2184\n",
       "10     1000\n",
       "11      460\n",
       "12      137\n",
       "13       75\n",
       "14       31\n",
       "15       16\n",
       "16        6\n",
       "17        4\n",
       "Name: lengthofstay, dtype: int64"
      ]
     },
     "execution_count": 96,
     "metadata": {},
     "output_type": "execute_result"
    }
   ],
   "source": [
    "data['lengthofstay'].value_counts()"
   ]
  },
  {
   "cell_type": "code",
   "execution_count": 98,
   "metadata": {
    "ExecuteTime": {
     "end_time": "2020-11-24T12:39:17.323611Z",
     "start_time": "2020-11-24T12:39:17.021336Z"
    }
   },
   "outputs": [
    {
     "data": {
      "text/plain": [
       "<AxesSubplot:xlabel='lengthofstay', ylabel='count'>"
      ]
     },
     "execution_count": 98,
     "metadata": {},
     "output_type": "execute_result"
    },
    {
     "data": {
      "image/png": "[encoded data removed]",
      "text/plain": [
       "<Figure size 432x288 with 1 Axes>"
      ]
     },
     "metadata": {},
     "output_type": "display_data"
    }
   ],
   "source": [
    "sns.countplot(x=data[\"lengthofstay\"])"
   ]
  },
  {
   "cell_type": "markdown",
   "metadata": {},
   "source": [
    "### distribution plot"
   ]
  },
  {
   "cell_type": "code",
   "execution_count": 16,
   "metadata": {
    "ExecuteTime": {
     "end_time": "2020-11-24T10:55:38.883923Z",
     "start_time": "2020-11-24T10:55:20.930012Z"
    },
    "scrolled": true
   },
   "outputs": [
    {
     "data": {
      "image/png": "[encoded data removed]",
      "text/plain": [
       "<Figure size 360x360 with 1 Axes>"
      ]
     },
     "metadata": {},
     "output_type": "display_data"
    },
    {
     "data": {
      "image/png": "[encoded data removed]",
      "text/plain": [
       "<Figure size 360x360 with 1 Axes>"
      ]
     },
     "metadata": {},
     "output_type": "display_data"
    },
    {
     "data": {
      "image/png": "[encoded data removed]",
      "text/plain": [
       "<Figure size 360x360 with 1 Axes>"
      ]
     },
     "metadata": {},
     "output_type": "display_data"
    },
    {
     "data": {
      "image/png": "[encoded data removed]",
      "text/plain": [
       "<Figure size 360x360 with 1 Axes>"
      ]
     },
     "metadata": {},
     "output_type": "display_data"
    },
    {
     "data": {
      "image/png": "[encoded data removed]",
      "text/plain": [
       "<Figure size 360x360 with 1 Axes>"
      ]
     },
     "metadata": {},
     "output_type": "display_data"
    },
    {
     "data": {
      "image/png": "[encoded data removed]",
      "text/plain": [
       "<Figure size 360x360 with 1 Axes>"
      ]
     },
     "metadata": {},
     "output_type": "display_data"
    },
    {
     "data": {
      "image/png": "[encoded data removed]",
      "text/plain": [
       "<Figure size 360x360 with 1 Axes>"
      ]
     },
     "metadata": {},
     "output_type": "display_data"
    },
    {
     "data": {
      "image/png": "[encoded data removed]",
      "text/plain": [
       "<Figure size 360x360 with 1 Axes>"
      ]
     },
     "metadata": {},
     "output_type": "display_data"
    }
   ],
   "source": [
    "for col in data.select_dtypes('float64'):\n",
    "    sns.set()\n",
    "    sns.displot(data[col], kde =True)"
   ]
  },
  {
   "cell_type": "code",
   "execution_count": 38,
   "metadata": {
    "ExecuteTime": {
     "end_time": "2020-11-24T11:47:02.142436Z",
     "start_time": "2020-11-24T11:46:52.703275Z"
    }
   },
   "outputs": [
    {
     "data": {
      "image/png": "[encoded data removed]",
      "text/plain": [
       "<Figure size 360x360 with 1 Axes>"
      ]
     },
     "metadata": {},
     "output_type": "display_data"
    },
    {
     "data": {
      "image/png": "[encoded data removed]",
      "text/plain": [
       "<Figure size 360x360 with 1 Axes>"
      ]
     },
     "metadata": {},
     "output_type": "display_data"
    },
    {
     "data": {
      "image/png": "[encoded data removed]",
      "text/plain": [
       "<Figure size 360x360 with 1 Axes>"
      ]
     },
     "metadata": {},
     "output_type": "display_data"
    },
    {
     "data": {
      "image/png": "[encoded data removed]",
      "text/plain": [
       "<Figure size 360x360 with 1 Axes>"
      ]
     },
     "metadata": {},
     "output_type": "display_data"
    },
    {
     "data": {
      "image/png": "[encoded data removed]",
      "text/plain": [
       "<Figure size 360x360 with 1 Axes>"
      ]
     },
     "metadata": {},
     "output_type": "display_data"
    },
    {
     "data": {
      "image/png": "[encoded data removed]",
      "text/plain": [
       "<Figure size 360x360 with 1 Axes>"
      ]
     },
     "metadata": {},
     "output_type": "display_data"
    },
    {
     "data": {
      "image/png": "[encoded data removed]",
      "text/plain": [
       "<Figure size 360x360 with 1 Axes>"
      ]
     },
     "metadata": {},
     "output_type": "display_data"
    },
    {
     "data": {
      "image/png": "[encoded data removed]",
      "text/plain": [
       "<Figure size 360x360 with 1 Axes>"
      ]
     },
     "metadata": {},
     "output_type": "display_data"
    },
    {
     "data": {
      "image/png": "[encoded data removed]",
      "text/plain": [
       "<Figure size 360x360 with 1 Axes>"
      ]
     },
     "metadata": {},
     "output_type": "display_data"
    },
    {
     "data": {
      "image/png": "[encoded data removed]",
      "text/plain": [
       "<Figure size 360x360 with 1 Axes>"
      ]
     },
     "metadata": {},
     "output_type": "display_data"
    },
    {
     "data": {
      "image/png": "[encoded data removed]",
      "text/plain": [
       "<Figure size 360x360 with 1 Axes>"
      ]
     },
     "metadata": {},
     "output_type": "display_data"
    },
    {
     "data": {
      "image/png": "[encoded data removed]",
      "text/plain": [
       "<Figure size 360x360 with 1 Axes>"
      ]
     },
     "metadata": {},
     "output_type": "display_data"
    },
    {
     "data": {
      "image/png": "[encoded data removed]",
      "text/plain": [
       "<Figure size 360x360 with 1 Axes>"
      ]
     },
     "metadata": {},
     "output_type": "display_data"
    },
    {
     "data": {
      "image/png": "[encoded data removed]",
      "text/plain": [
       "<Figure size 360x360 with 1 Axes>"
      ]
     },
     "metadata": {},
     "output_type": "display_data"
    },
    {
     "data": {
      "image/png": "[encoded data removed]",
      "text/plain": [
       "<Figure size 360x360 with 1 Axes>"
      ]
     },
     "metadata": {},
     "output_type": "display_data"
    }
   ],
   "source": [
    "for col in data.select_dtypes('int64'):\n",
    "    sns.set()\n",
    "    sns.displot(data[col], kde =True)"
   ]
  },
  {
   "cell_type": "markdown",
   "metadata": {},
   "source": [
    "### Sex / target analysis"
   ]
  },
  {
   "cell_type": "code",
   "execution_count": 32,
   "metadata": {
    "ExecuteTime": {
     "end_time": "2020-11-24T11:01:50.140289Z",
     "start_time": "2020-11-24T11:01:49.367865Z"
    },
    "scrolled": true
   },
   "outputs": [
    {
     "data": {
      "text/plain": [
       "<seaborn.axisgrid.FacetGrid at 0x7fa555b82590>"
      ]
     },
     "execution_count": 32,
     "metadata": {},
     "output_type": "execute_result"
    },
    {
     "data": {
      "image/png": "[encoded data removed]",
      "text/plain": [
       "<Figure size 433.425x360 with 1 Axes>"
      ]
     },
     "metadata": {},
     "output_type": "display_data"
    }
   ],
   "source": [
    "sns.displot(data, x = 'gender', hue = 'lengthofstay')"
   ]
  },
  {
   "cell_type": "markdown",
   "metadata": {},
   "source": [
    "## Pre process"
   ]
  },
  {
   "cell_type": "code",
   "execution_count": null,
   "metadata": {},
   "outputs": [],
   "source": [
    "df1 = data"
   ]
  },
  {
   "cell_type": "code",
   "execution_count": 220,
   "metadata": {
    "ExecuteTime": {
     "end_time": "2020-11-24T14:08:09.063170Z",
     "start_time": "2020-11-24T14:08:08.980558Z"
    }
   },
   "outputs": [],
   "source": [
    "#transform date in datetime object\n",
    "df1['vdate'] = pd.to_datetime(df1['vdate'])\n",
    "\n",
    "#create new feature\n",
    "df1['daysofweek_admit']=df1['vdate'].dt.day_name()"
   ]
  },
  {
   "cell_type": "code",
   "execution_count": 222,
   "metadata": {
    "ExecuteTime": {
     "end_time": "2020-11-24T14:10:23.346272Z",
     "start_time": "2020-11-24T14:10:23.342795Z"
    }
   },
   "outputs": [],
   "source": [
    "#transform target to numerical values\n",
    "df1['lengthofstay']=df1['lengthofstay'].astype('int')"
   ]
  },
  {
   "cell_type": "code",
   "execution_count": 231,
   "metadata": {
    "ExecuteTime": {
     "end_time": "2020-11-24T14:17:21.057172Z",
     "start_time": "2020-11-24T14:17:21.032940Z"
    },
    "scrolled": true
   },
   "outputs": [
    {
     "name": "stdout",
     "output_type": "stream",
     "text": [
      "eid                                    int64\n",
      "vdate                         datetime64[ns]\n",
      "rcount                                 int64\n",
      "gender                                 int64\n",
      "dialysisrenalendstage                  int64\n",
      "asthma                                 int64\n",
      "irondef                                int64\n",
      "pneum                                  int64\n",
      "substancedependence                    int64\n",
      "psychologicaldisordermajor             int64\n",
      "depress                                int64\n",
      "psychother                             int64\n",
      "fibrosisandother                       int64\n",
      "malnutrition                           int64\n",
      "hemo                                   int64\n",
      "hematocrit                           float64\n",
      "neutrophils                          float64\n",
      "sodium                               float64\n",
      "glucose                              float64\n",
      "bloodureanitro                       float64\n",
      "creatinine                           float64\n",
      "bmi                                  float64\n",
      "pulse                                  int64\n",
      "respiration                          float64\n",
      "secondarydiagnosisnonicd9              int64\n",
      "discharged                            object\n",
      "facid                                  int64\n",
      "lengthofstay                           int64\n",
      "daysofweek_admit                       int64\n",
      "dtype: object\n"
     ]
    }
   ],
   "source": [
    "## encode categorical features\n",
    "from sklearn.preprocessing import LabelEncoder\n",
    "\n",
    "encoder = LabelEncoder()\n",
    "\n",
    "df1['rcount'] = encoder.fit_transform(df1['rcount'])\n",
    "\n",
    "df1['gender'] = encoder.fit_transform(df1['gender'])\n",
    "\n",
    "df1['daysofweek_admit'] = encoder.fit_transform(df1['daysofweek_admit'])\n",
    "\n",
    "df1['facid'] = encoder.fit_transform(df1['facid'])\n",
    "print(df1.dtypes)\n",
    "\n"
   ]
  },
  {
   "cell_type": "markdown",
   "metadata": {},
   "source": [
    "## split data"
   ]
  },
  {
   "cell_type": "code",
   "execution_count": 232,
   "metadata": {
    "ExecuteTime": {
     "end_time": "2020-11-24T14:19:45.608662Z",
     "start_time": "2020-11-24T14:19:45.580192Z"
    }
   },
   "outputs": [],
   "source": [
    "df2 = df1[['rcount', 'gender', 'dialysisrenalendstage', 'asthma',\n",
    "       'irondef', 'pneum', 'substancedependence', 'psychologicaldisordermajor',\n",
    "       'depress', 'psychother', 'fibrosisandother', 'malnutrition', 'hemo',\n",
    "       'hematocrit', 'neutrophils', 'sodium', 'glucose', 'bloodureanitro',\n",
    "       'creatinine', 'bmi', 'pulse', 'respiration',\n",
    "       'secondarydiagnosisnonicd9',  'facid', 'daysofweek_admit','lengthofstay']]"
   ]
  },
  {
   "cell_type": "code",
   "execution_count": 234,
   "metadata": {
    "ExecuteTime": {
     "end_time": "2020-11-24T14:21:09.897704Z",
     "start_time": "2020-11-24T14:21:09.884716Z"
    }
   },
   "outputs": [],
   "source": [
    "label = df1[['rcount', 'gender', 'dialysisrenalendstage', 'asthma',\n",
    "       'irondef', 'pneum', 'substancedependence', 'psychologicaldisordermajor',\n",
    "       'depress', 'psychother', 'fibrosisandother', 'malnutrition', 'hemo',\n",
    "       'hematocrit', 'neutrophils', 'sodium', 'glucose', 'bloodureanitro',\n",
    "       'creatinine', 'bmi', 'pulse', 'respiration',\n",
    "       'secondarydiagnosisnonicd9',  'facid', 'daysofweek_admit']]"
   ]
  },
  {
   "cell_type": "code",
   "execution_count": 235,
   "metadata": {
    "ExecuteTime": {
     "end_time": "2020-11-24T14:21:21.134274Z",
     "start_time": "2020-11-24T14:21:21.131137Z"
    }
   },
   "outputs": [],
   "source": [
    "target = df2[\"lengthofstay\"]"
   ]
  },
  {
   "cell_type": "code",
   "execution_count": 236,
   "metadata": {
    "ExecuteTime": {
     "end_time": "2020-11-24T14:21:22.492343Z",
     "start_time": "2020-11-24T14:21:22.460075Z"
    }
   },
   "outputs": [],
   "source": [
    "X_train, X_test, y_train, y_test = train_test_split(label, target, test_size=0.3) # 70% training and 30% test"
   ]
  },
  {
   "cell_type": "markdown",
   "metadata": {},
   "source": [
    "### try with RF regressor"
   ]
  },
  {
   "cell_type": "code",
   "execution_count": 242,
   "metadata": {
    "ExecuteTime": {
     "end_time": "2020-11-24T14:27:43.978252Z",
     "start_time": "2020-11-24T14:26:40.266939Z"
    }
   },
   "outputs": [
    {
     "name": "stdout",
     "output_type": "stream",
     "text": [
      "Mean Squared Error for DecisionTreeClassifier is 0.43823456666666666\n"
     ]
    }
   ],
   "source": [
    "from sklearn.ensemble import RandomForestRegressor\n",
    "\n",
    "model = RandomForestRegressor(random_state = 0)\n",
    "model.fit(X_train, y_train)\n",
    "\n",
    "y_pred = model.predict(X_test)\n",
    "mse = mean_squared_error(y_test, y_pred)\n",
    "print('Mean Squared Error for {} is'.format(name), mse)"
   ]
  },
  {
   "cell_type": "code",
   "execution_count": 243,
   "metadata": {
    "ExecuteTime": {
     "end_time": "2020-11-24T14:27:49.831313Z",
     "start_time": "2020-11-24T14:27:49.074488Z"
    }
   },
   "outputs": [
    {
     "data": {
      "text/plain": [
       "0.9212863536009939"
      ]
     },
     "execution_count": 243,
     "metadata": {},
     "output_type": "execute_result"
    }
   ],
   "source": [
    "score = model.score(X_test,y_test)\n",
    "score"
   ]
  },
  {
   "cell_type": "code",
   "execution_count": 244,
   "metadata": {
    "ExecuteTime": {
     "end_time": "2020-11-24T14:27:52.004013Z",
     "start_time": "2020-11-24T14:27:51.999777Z"
    }
   },
   "outputs": [
    {
     "data": {
      "text/plain": [
       "array([1.  , 2.46, 3.17, ..., 4.61, 8.79, 8.3 ])"
      ]
     },
     "execution_count": 244,
     "metadata": {},
     "output_type": "execute_result"
    }
   ],
   "source": [
    "y_pred"
   ]
  },
  {
   "cell_type": "markdown",
   "metadata": {},
   "source": [
    "### Try to optimise model by gridsearch"
   ]
  },
  {
   "cell_type": "code",
   "execution_count": 247,
   "metadata": {
    "ExecuteTime": {
     "end_time": "2020-11-24T14:28:12.083911Z",
     "start_time": "2020-11-24T14:28:12.080804Z"
    }
   },
   "outputs": [],
   "source": [
    "tuned_parameters = {'n_estimators': [500, 700, 1000], 'max_depth': [None, 1, 2, 3], 'min_samples_split': [1, 2, 3]}"
   ]
  },
  {
   "cell_type": "code",
   "execution_count": 248,
   "metadata": {
    "ExecuteTime": {
     "end_time": "2020-11-24T14:28:13.230523Z",
     "start_time": "2020-11-24T14:28:13.227486Z"
    }
   },
   "outputs": [],
   "source": [
    "clf = GridSearchCV(RandomForestRegressor(), tuned_parameters, cv=5, n_jobs=-1, verbose=1)"
   ]
  },
  {
   "cell_type": "code",
   "execution_count": 249,
   "metadata": {
    "ExecuteTime": {
     "end_time": "2020-11-24T15:48:39.531512Z",
     "start_time": "2020-11-24T14:28:25.900530Z"
    }
   },
   "outputs": [
    {
     "name": "stdout",
     "output_type": "stream",
     "text": [
      "Fitting 5 folds for each of 36 candidates, totalling 180 fits\n"
     ]
    },
    {
     "name": "stderr",
     "output_type": "stream",
     "text": [
      "[Parallel(n_jobs=-1)]: Using backend LokyBackend with 12 concurrent workers.\n",
      "[Parallel(n_jobs=-1)]: Done  26 tasks      | elapsed: 26.8min\n",
      "[Parallel(n_jobs=-1)]: Done 180 out of 180 | elapsed: 69.4min finished\n"
     ]
    },
    {
     "data": {
      "text/plain": [
       "GridSearchCV(cv=5, estimator=RandomForestRegressor(), n_jobs=-1,\n",
       "             param_grid={'max_depth': [None, 1, 2, 3],\n",
       "                         'min_samples_split': [1, 2, 3],\n",
       "                         'n_estimators': [500, 700, 1000]},\n",
       "             verbose=1)"
      ]
     },
     "execution_count": 249,
     "metadata": {},
     "output_type": "execute_result"
    }
   ],
   "source": [
    "clf.fit(X_train, y_train)"
   ]
  },
  {
   "cell_type": "code",
   "execution_count": 252,
   "metadata": {
    "ExecuteTime": {
     "end_time": "2020-11-24T15:57:20.855816Z",
     "start_time": "2020-11-24T15:57:20.852497Z"
    }
   },
   "outputs": [
    {
     "name": "stdout",
     "output_type": "stream",
     "text": [
      "RandomForestRegressor(min_samples_split=3, n_estimators=1000)\n"
     ]
    }
   ],
   "source": [
    "print(clf.best_estimator_)"
   ]
  },
  {
   "cell_type": "code",
   "execution_count": 254,
   "metadata": {
    "ExecuteTime": {
     "end_time": "2020-11-24T18:02:44.653285Z",
     "start_time": "2020-11-24T17:54:52.368666Z"
    }
   },
   "outputs": [
    {
     "name": "stdout",
     "output_type": "stream",
     "text": [
      "Mean Squared Error for DecisionTreeClassifier is 0.42988821116444254\n"
     ]
    }
   ],
   "source": [
    "model = RandomForestRegressor(min_samples_split=3, n_estimators=1000)\n",
    "model.fit(X_train, y_train)\n",
    "\n",
    "y_pred = model.predict(X_test)\n",
    "mse = mean_squared_error(y_test, y_pred)\n",
    "print('Mean Squared Error for {} is'.format(name), mse)"
   ]
  },
  {
   "cell_type": "code",
   "execution_count": 255,
   "metadata": {
    "ExecuteTime": {
     "end_time": "2020-11-24T20:35:33.092623Z",
     "start_time": "2020-11-24T20:35:26.268505Z"
    }
   },
   "outputs": [
    {
     "data": {
      "text/plain": [
       "0.9227854870005328"
      ]
     },
     "execution_count": 255,
     "metadata": {},
     "output_type": "execute_result"
    }
   ],
   "source": [
    "score = model.score(X_test,y_test)\n",
    "score"
   ]
  },
  {
   "cell_type": "markdown",
   "metadata": {},
   "source": [
    "### Feature importance"
   ]
  },
  {
   "cell_type": "code",
   "execution_count": 264,
   "metadata": {
    "ExecuteTime": {
     "end_time": "2020-11-24T20:53:50.087793Z",
     "start_time": "2020-11-24T20:53:49.633352Z"
    }
   },
   "outputs": [
    {
     "name": "stdout",
     "output_type": "stream",
     "text": [
      "Feature: 0, Score: 0.56629\n",
      "Feature: 1, Score: 0.00072\n",
      "Feature: 2, Score: 0.00361\n",
      "Feature: 3, Score: 0.00132\n",
      "Feature: 4, Score: 0.00185\n",
      "Feature: 5, Score: 0.00143\n",
      "Feature: 6, Score: 0.00169\n",
      "Feature: 7, Score: 0.00593\n",
      "Feature: 8, Score: 0.00201\n",
      "Feature: 9, Score: 0.00099\n",
      "Feature: 10, Score: 0.00035\n",
      "Feature: 11, Score: 0.00110\n",
      "Feature: 12, Score: 0.02117\n",
      "Feature: 13, Score: 0.04588\n",
      "Feature: 14, Score: 0.01509\n",
      "Feature: 15, Score: 0.02562\n",
      "Feature: 16, Score: 0.02570\n",
      "Feature: 17, Score: 0.01780\n",
      "Feature: 18, Score: 0.02552\n",
      "Feature: 19, Score: 0.02615\n",
      "Feature: 20, Score: 0.02324\n",
      "Feature: 21, Score: 0.02802\n",
      "Feature: 22, Score: 0.00251\n",
      "Feature: 23, Score: 0.15311\n",
      "Feature: 24, Score: 0.00290\n"
     ]
    },
    {
     "data": {
      "image/png": "[encoded data removed]",
      "text/plain": [
       "<Figure size 432x288 with 1 Axes>"
      ]
     },
     "metadata": {},
     "output_type": "display_data"
    }
   ],
   "source": [
    "importance = model.feature_importances_\n",
    "\n",
    "# summarize feature importance\n",
    "for i,v in enumerate(importance):\n",
    "    print('Feature: %0d, Score: %.5f' % (i,v))\n",
    "    \n",
    "# plot feature importance\n",
    "plt.bar([x for x in range(len(importance))], importance)\n",
    "plt.show()"
   ]
  },
  {
   "cell_type": "markdown",
   "metadata": {},
   "source": [
    "### export model"
   ]
  },
  {
   "cell_type": "code",
   "execution_count": 274,
   "metadata": {
    "ExecuteTime": {
     "end_time": "2020-11-25T09:58:06.101539Z",
     "start_time": "2020-11-25T09:56:56.679803Z"
    }
   },
   "outputs": [],
   "source": [
    "import pickle\n",
    "import bz2\n",
    "\n",
    "# save the model to disk\n",
    "pickle.dump(model, open('/Users/anthonycoplo/Desktop/LOS_model.pkl','wb'))\n"
   ]
  },
  {
   "cell_type": "code",
   "execution_count": 268,
   "metadata": {
    "ExecuteTime": {
     "end_time": "2020-11-24T23:27:42.733862Z",
     "start_time": "2020-11-24T23:27:42.729712Z"
    }
   },
   "outputs": [
    {
     "data": {
      "text/plain": [
       "Index(['rcount', 'gender', 'dialysisrenalendstage', 'asthma', 'irondef',\n",
       "       'pneum', 'substancedependence', 'psychologicaldisordermajor', 'depress',\n",
       "       'psychother', 'fibrosisandother', 'malnutrition', 'hemo', 'hematocrit',\n",
       "       'neutrophils', 'sodium', 'glucose', 'bloodureanitro', 'creatinine',\n",
       "       'bmi', 'pulse', 'respiration', 'secondarydiagnosisnonicd9', 'facid',\n",
       "       'daysofweek_admit'],\n",
       "      dtype='object')"
      ]
     },
     "execution_count": 268,
     "metadata": {},
     "output_type": "execute_result"
    }
   ],
   "source": [
    "X_train.columns"
   ]
  },
  {
   "cell_type": "code",
   "execution_count": 292,
   "metadata": {
    "ExecuteTime": {
     "end_time": "2020-11-25T10:38:42.444021Z",
     "start_time": "2020-11-25T10:38:42.417334Z"
    }
   },
   "outputs": [
    {
     "data": {
      "text/html": [
       "<div>\n",
       "<style scoped>\n",
       "    .dataframe tbody tr th:only-of-type {\n",
       "        vertical-align: middle;\n",
       "    }\n",
       "\n",
       "    .dataframe tbody tr th {\n",
       "        vertical-align: top;\n",
       "    }\n",
       "\n",
       "    .dataframe thead th {\n",
       "        text-align: right;\n",
       "    }\n",
       "</style>\n",
       "<table border=\"1\" class=\"dataframe\">\n",
       "  <thead>\n",
       "    <tr style=\"text-align: right;\">\n",
       "      <th></th>\n",
       "      <th>rcount</th>\n",
       "      <th>gender</th>\n",
       "      <th>dialysisrenalendstage</th>\n",
       "      <th>asthma</th>\n",
       "      <th>irondef</th>\n",
       "      <th>pneum</th>\n",
       "      <th>substancedependence</th>\n",
       "      <th>psychologicaldisordermajor</th>\n",
       "      <th>depress</th>\n",
       "      <th>psychother</th>\n",
       "      <th>fibrosisandother</th>\n",
       "      <th>malnutrition</th>\n",
       "      <th>hemo</th>\n",
       "      <th>hematocrit</th>\n",
       "      <th>neutrophils</th>\n",
       "      <th>sodium</th>\n",
       "      <th>glucose</th>\n",
       "      <th>bloodureanitro</th>\n",
       "      <th>creatinine</th>\n",
       "      <th>bmi</th>\n",
       "      <th>pulse</th>\n",
       "      <th>respiration</th>\n",
       "      <th>secondarydiagnosisnonicd9</th>\n",
       "      <th>facid</th>\n",
       "      <th>daysofweek_admit</th>\n",
       "    </tr>\n",
       "  </thead>\n",
       "  <tbody>\n",
       "    <tr>\n",
       "      <th>70589</th>\n",
       "      <td>0</td>\n",
       "      <td>1</td>\n",
       "      <td>0</td>\n",
       "      <td>0</td>\n",
       "      <td>0</td>\n",
       "      <td>0</td>\n",
       "      <td>0</td>\n",
       "      <td>0</td>\n",
       "      <td>0</td>\n",
       "      <td>0</td>\n",
       "      <td>0</td>\n",
       "      <td>0</td>\n",
       "      <td>0</td>\n",
       "      <td>11.9</td>\n",
       "      <td>9.4</td>\n",
       "      <td>135.149424</td>\n",
       "      <td>136.819548</td>\n",
       "      <td>12.0</td>\n",
       "      <td>1.303508</td>\n",
       "      <td>32.424760</td>\n",
       "      <td>77</td>\n",
       "      <td>6.5</td>\n",
       "      <td>1</td>\n",
       "      <td>1</td>\n",
       "      <td>2</td>\n",
       "    </tr>\n",
       "    <tr>\n",
       "      <th>38352</th>\n",
       "      <td>1</td>\n",
       "      <td>1</td>\n",
       "      <td>0</td>\n",
       "      <td>0</td>\n",
       "      <td>0</td>\n",
       "      <td>0</td>\n",
       "      <td>0</td>\n",
       "      <td>0</td>\n",
       "      <td>0</td>\n",
       "      <td>0</td>\n",
       "      <td>0</td>\n",
       "      <td>0</td>\n",
       "      <td>0</td>\n",
       "      <td>13.2</td>\n",
       "      <td>19.9</td>\n",
       "      <td>137.914194</td>\n",
       "      <td>186.890034</td>\n",
       "      <td>5.5</td>\n",
       "      <td>0.983861</td>\n",
       "      <td>30.423491</td>\n",
       "      <td>83</td>\n",
       "      <td>6.5</td>\n",
       "      <td>1</td>\n",
       "      <td>1</td>\n",
       "      <td>4</td>\n",
       "    </tr>\n",
       "    <tr>\n",
       "      <th>26085</th>\n",
       "      <td>0</td>\n",
       "      <td>1</td>\n",
       "      <td>0</td>\n",
       "      <td>0</td>\n",
       "      <td>0</td>\n",
       "      <td>0</td>\n",
       "      <td>0</td>\n",
       "      <td>0</td>\n",
       "      <td>0</td>\n",
       "      <td>0</td>\n",
       "      <td>0</td>\n",
       "      <td>0</td>\n",
       "      <td>0</td>\n",
       "      <td>11.9</td>\n",
       "      <td>9.4</td>\n",
       "      <td>133.350628</td>\n",
       "      <td>144.542363</td>\n",
       "      <td>12.0</td>\n",
       "      <td>1.343477</td>\n",
       "      <td>28.339398</td>\n",
       "      <td>59</td>\n",
       "      <td>6.5</td>\n",
       "      <td>1</td>\n",
       "      <td>0</td>\n",
       "      <td>0</td>\n",
       "    </tr>\n",
       "    <tr>\n",
       "      <th>23356</th>\n",
       "      <td>2</td>\n",
       "      <td>0</td>\n",
       "      <td>0</td>\n",
       "      <td>0</td>\n",
       "      <td>0</td>\n",
       "      <td>0</td>\n",
       "      <td>0</td>\n",
       "      <td>0</td>\n",
       "      <td>0</td>\n",
       "      <td>0</td>\n",
       "      <td>0</td>\n",
       "      <td>0</td>\n",
       "      <td>0</td>\n",
       "      <td>11.3</td>\n",
       "      <td>7.4</td>\n",
       "      <td>139.068149</td>\n",
       "      <td>127.209380</td>\n",
       "      <td>17.0</td>\n",
       "      <td>0.697302</td>\n",
       "      <td>33.659150</td>\n",
       "      <td>84</td>\n",
       "      <td>7.1</td>\n",
       "      <td>4</td>\n",
       "      <td>1</td>\n",
       "      <td>4</td>\n",
       "    </tr>\n",
       "    <tr>\n",
       "      <th>93277</th>\n",
       "      <td>4</td>\n",
       "      <td>1</td>\n",
       "      <td>0</td>\n",
       "      <td>0</td>\n",
       "      <td>0</td>\n",
       "      <td>0</td>\n",
       "      <td>0</td>\n",
       "      <td>0</td>\n",
       "      <td>0</td>\n",
       "      <td>0</td>\n",
       "      <td>0</td>\n",
       "      <td>0</td>\n",
       "      <td>0</td>\n",
       "      <td>12.0</td>\n",
       "      <td>9.3</td>\n",
       "      <td>136.239943</td>\n",
       "      <td>162.044287</td>\n",
       "      <td>12.0</td>\n",
       "      <td>1.018530</td>\n",
       "      <td>28.451117</td>\n",
       "      <td>77</td>\n",
       "      <td>6.5</td>\n",
       "      <td>1</td>\n",
       "      <td>0</td>\n",
       "      <td>5</td>\n",
       "    </tr>\n",
       "    <tr>\n",
       "      <th>...</th>\n",
       "      <td>...</td>\n",
       "      <td>...</td>\n",
       "      <td>...</td>\n",
       "      <td>...</td>\n",
       "      <td>...</td>\n",
       "      <td>...</td>\n",
       "      <td>...</td>\n",
       "      <td>...</td>\n",
       "      <td>...</td>\n",
       "      <td>...</td>\n",
       "      <td>...</td>\n",
       "      <td>...</td>\n",
       "      <td>...</td>\n",
       "      <td>...</td>\n",
       "      <td>...</td>\n",
       "      <td>...</td>\n",
       "      <td>...</td>\n",
       "      <td>...</td>\n",
       "      <td>...</td>\n",
       "      <td>...</td>\n",
       "      <td>...</td>\n",
       "      <td>...</td>\n",
       "      <td>...</td>\n",
       "      <td>...</td>\n",
       "      <td>...</td>\n",
       "    </tr>\n",
       "    <tr>\n",
       "      <th>15089</th>\n",
       "      <td>0</td>\n",
       "      <td>0</td>\n",
       "      <td>0</td>\n",
       "      <td>0</td>\n",
       "      <td>0</td>\n",
       "      <td>0</td>\n",
       "      <td>0</td>\n",
       "      <td>1</td>\n",
       "      <td>1</td>\n",
       "      <td>0</td>\n",
       "      <td>0</td>\n",
       "      <td>0</td>\n",
       "      <td>0</td>\n",
       "      <td>11.3</td>\n",
       "      <td>6.2</td>\n",
       "      <td>135.194680</td>\n",
       "      <td>145.220209</td>\n",
       "      <td>10.0</td>\n",
       "      <td>0.991586</td>\n",
       "      <td>30.821934</td>\n",
       "      <td>63</td>\n",
       "      <td>6.5</td>\n",
       "      <td>1</td>\n",
       "      <td>4</td>\n",
       "      <td>1</td>\n",
       "    </tr>\n",
       "    <tr>\n",
       "      <th>3373</th>\n",
       "      <td>0</td>\n",
       "      <td>1</td>\n",
       "      <td>0</td>\n",
       "      <td>0</td>\n",
       "      <td>0</td>\n",
       "      <td>0</td>\n",
       "      <td>0</td>\n",
       "      <td>1</td>\n",
       "      <td>0</td>\n",
       "      <td>1</td>\n",
       "      <td>0</td>\n",
       "      <td>0</td>\n",
       "      <td>0</td>\n",
       "      <td>9.0</td>\n",
       "      <td>8.3</td>\n",
       "      <td>132.345795</td>\n",
       "      <td>102.439809</td>\n",
       "      <td>18.0</td>\n",
       "      <td>0.992075</td>\n",
       "      <td>28.639330</td>\n",
       "      <td>58</td>\n",
       "      <td>4.1</td>\n",
       "      <td>0</td>\n",
       "      <td>4</td>\n",
       "      <td>1</td>\n",
       "    </tr>\n",
       "    <tr>\n",
       "      <th>28567</th>\n",
       "      <td>2</td>\n",
       "      <td>1</td>\n",
       "      <td>0</td>\n",
       "      <td>0</td>\n",
       "      <td>0</td>\n",
       "      <td>0</td>\n",
       "      <td>0</td>\n",
       "      <td>0</td>\n",
       "      <td>0</td>\n",
       "      <td>0</td>\n",
       "      <td>0</td>\n",
       "      <td>0</td>\n",
       "      <td>0</td>\n",
       "      <td>16.3</td>\n",
       "      <td>5.4</td>\n",
       "      <td>138.997057</td>\n",
       "      <td>151.511945</td>\n",
       "      <td>9.0</td>\n",
       "      <td>1.199748</td>\n",
       "      <td>32.115403</td>\n",
       "      <td>82</td>\n",
       "      <td>6.5</td>\n",
       "      <td>5</td>\n",
       "      <td>1</td>\n",
       "      <td>1</td>\n",
       "    </tr>\n",
       "    <tr>\n",
       "      <th>92638</th>\n",
       "      <td>5</td>\n",
       "      <td>1</td>\n",
       "      <td>0</td>\n",
       "      <td>0</td>\n",
       "      <td>0</td>\n",
       "      <td>0</td>\n",
       "      <td>0</td>\n",
       "      <td>0</td>\n",
       "      <td>0</td>\n",
       "      <td>0</td>\n",
       "      <td>0</td>\n",
       "      <td>1</td>\n",
       "      <td>0</td>\n",
       "      <td>10.6</td>\n",
       "      <td>8.3</td>\n",
       "      <td>141.259103</td>\n",
       "      <td>167.875521</td>\n",
       "      <td>22.0</td>\n",
       "      <td>1.107491</td>\n",
       "      <td>29.306433</td>\n",
       "      <td>70</td>\n",
       "      <td>5.2</td>\n",
       "      <td>3</td>\n",
       "      <td>2</td>\n",
       "      <td>3</td>\n",
       "    </tr>\n",
       "    <tr>\n",
       "      <th>78308</th>\n",
       "      <td>0</td>\n",
       "      <td>1</td>\n",
       "      <td>0</td>\n",
       "      <td>0</td>\n",
       "      <td>1</td>\n",
       "      <td>1</td>\n",
       "      <td>0</td>\n",
       "      <td>1</td>\n",
       "      <td>0</td>\n",
       "      <td>1</td>\n",
       "      <td>0</td>\n",
       "      <td>0</td>\n",
       "      <td>1</td>\n",
       "      <td>7.7</td>\n",
       "      <td>7.9</td>\n",
       "      <td>143.912736</td>\n",
       "      <td>187.718170</td>\n",
       "      <td>37.0</td>\n",
       "      <td>1.247519</td>\n",
       "      <td>31.297595</td>\n",
       "      <td>72</td>\n",
       "      <td>1.9</td>\n",
       "      <td>1</td>\n",
       "      <td>3</td>\n",
       "      <td>5</td>\n",
       "    </tr>\n",
       "  </tbody>\n",
       "</table>\n",
       "<p>30000 rows × 25 columns</p>\n",
       "</div>"
      ],
      "text/plain": [
       "       rcount  gender  dialysisrenalendstage  asthma  irondef  pneum  \\\n",
       "70589       0       1                      0       0        0      0   \n",
       "38352       1       1                      0       0        0      0   \n",
       "26085       0       1                      0       0        0      0   \n",
       "23356       2       0                      0       0        0      0   \n",
       "93277       4       1                      0       0        0      0   \n",
       "...       ...     ...                    ...     ...      ...    ...   \n",
       "15089       0       0                      0       0        0      0   \n",
       "3373        0       1                      0       0        0      0   \n",
       "28567       2       1                      0       0        0      0   \n",
       "92638       5       1                      0       0        0      0   \n",
       "78308       0       1                      0       0        1      1   \n",
       "\n",
       "       substancedependence  psychologicaldisordermajor  depress  psychother  \\\n",
       "70589                    0                           0        0           0   \n",
       "38352                    0                           0        0           0   \n",
       "26085                    0                           0        0           0   \n",
       "23356                    0                           0        0           0   \n",
       "93277                    0                           0        0           0   \n",
       "...                    ...                         ...      ...         ...   \n",
       "15089                    0                           1        1           0   \n",
       "3373                     0                           1        0           1   \n",
       "28567                    0                           0        0           0   \n",
       "92638                    0                           0        0           0   \n",
       "78308                    0                           1        0           1   \n",
       "\n",
       "       fibrosisandother  malnutrition  hemo  hematocrit  neutrophils  \\\n",
       "70589                 0             0     0        11.9          9.4   \n",
       "38352                 0             0     0        13.2         19.9   \n",
       "26085                 0             0     0        11.9          9.4   \n",
       "23356                 0             0     0        11.3          7.4   \n",
       "93277                 0             0     0        12.0          9.3   \n",
       "...                 ...           ...   ...         ...          ...   \n",
       "15089                 0             0     0        11.3          6.2   \n",
       "3373                  0             0     0         9.0          8.3   \n",
       "28567                 0             0     0        16.3          5.4   \n",
       "92638                 0             1     0        10.6          8.3   \n",
       "78308                 0             0     1         7.7          7.9   \n",
       "\n",
       "           sodium     glucose  bloodureanitro  creatinine        bmi  pulse  \\\n",
       "70589  135.149424  136.819548            12.0    1.303508  32.424760     77   \n",
       "38352  137.914194  186.890034             5.5    0.983861  30.423491     83   \n",
       "26085  133.350628  144.542363            12.0    1.343477  28.339398     59   \n",
       "23356  139.068149  127.209380            17.0    0.697302  33.659150     84   \n",
       "93277  136.239943  162.044287            12.0    1.018530  28.451117     77   \n",
       "...           ...         ...             ...         ...        ...    ...   \n",
       "15089  135.194680  145.220209            10.0    0.991586  30.821934     63   \n",
       "3373   132.345795  102.439809            18.0    0.992075  28.639330     58   \n",
       "28567  138.997057  151.511945             9.0    1.199748  32.115403     82   \n",
       "92638  141.259103  167.875521            22.0    1.107491  29.306433     70   \n",
       "78308  143.912736  187.718170            37.0    1.247519  31.297595     72   \n",
       "\n",
       "       respiration  secondarydiagnosisnonicd9  facid  daysofweek_admit  \n",
       "70589          6.5                          1      1                 2  \n",
       "38352          6.5                          1      1                 4  \n",
       "26085          6.5                          1      0                 0  \n",
       "23356          7.1                          4      1                 4  \n",
       "93277          6.5                          1      0                 5  \n",
       "...            ...                        ...    ...               ...  \n",
       "15089          6.5                          1      4                 1  \n",
       "3373           4.1                          0      4                 1  \n",
       "28567          6.5                          5      1                 1  \n",
       "92638          5.2                          3      2                 3  \n",
       "78308          1.9                          1      3                 5  \n",
       "\n",
       "[30000 rows x 25 columns]"
      ]
     },
     "execution_count": 292,
     "metadata": {},
     "output_type": "execute_result"
    }
   ],
   "source": [
    "X_test"
   ]
  },
  {
   "cell_type": "code",
   "execution_count": 290,
   "metadata": {
    "ExecuteTime": {
     "end_time": "2020-11-25T10:38:28.385625Z",
     "start_time": "2020-11-25T10:38:28.383066Z"
    }
   },
   "outputs": [],
   "source": [
    "pd.set_option('display.max_columns', None)"
   ]
  },
  {
   "cell_type": "code",
   "execution_count": 327,
   "metadata": {
    "ExecuteTime": {
     "end_time": "2020-11-25T10:52:57.953185Z",
     "start_time": "2020-11-25T10:52:57.950001Z"
    }
   },
   "outputs": [],
   "source": [
    "liste = ['0','1','0','0','0','0','0','0', '0', '0', '0','0','0','11.9','9.4','135.149424','136.819548','12.0','1.303508','32.424760','77','6.5','1','1','2']"
   ]
  },
  {
   "cell_type": "code",
   "execution_count": 328,
   "metadata": {
    "ExecuteTime": {
     "end_time": "2020-11-25T10:52:59.045778Z",
     "start_time": "2020-11-25T10:52:59.042816Z"
    }
   },
   "outputs": [],
   "source": [
    "listenp = pd.Series(liste)"
   ]
  },
  {
   "cell_type": "code",
   "execution_count": 329,
   "metadata": {
    "ExecuteTime": {
     "end_time": "2020-11-25T10:52:59.991891Z",
     "start_time": "2020-11-25T10:52:59.986378Z"
    }
   },
   "outputs": [
    {
     "data": {
      "text/plain": [
       "0       0\n",
       "1       1\n",
       "2       0\n",
       "3       0\n",
       "4       0\n",
       "     ... \n",
       "20     77\n",
       "21    6.5\n",
       "22      1\n",
       "23      1\n",
       "24      2\n",
       "Length: 25, dtype: object"
      ]
     },
     "execution_count": 329,
     "metadata": {},
     "output_type": "execute_result"
    }
   ],
   "source": [
    "listenp"
   ]
  },
  {
   "cell_type": "code",
   "execution_count": 361,
   "metadata": {
    "ExecuteTime": {
     "end_time": "2020-11-25T13:38:39.880372Z",
     "start_time": "2020-11-25T13:38:39.850566Z"
    },
    "scrolled": false
   },
   "outputs": [
    {
     "data": {
      "text/html": [
       "<div>\n",
       "<style scoped>\n",
       "    .dataframe tbody tr th:only-of-type {\n",
       "        vertical-align: middle;\n",
       "    }\n",
       "\n",
       "    .dataframe tbody tr th {\n",
       "        vertical-align: top;\n",
       "    }\n",
       "\n",
       "    .dataframe thead th {\n",
       "        text-align: right;\n",
       "    }\n",
       "</style>\n",
       "<table border=\"1\" class=\"dataframe\">\n",
       "  <thead>\n",
       "    <tr style=\"text-align: right;\">\n",
       "      <th></th>\n",
       "      <th>rcount</th>\n",
       "      <th>gender</th>\n",
       "      <th>dialysisrenalendstage</th>\n",
       "      <th>asthma</th>\n",
       "      <th>irondef</th>\n",
       "      <th>pneum</th>\n",
       "      <th>substancedependence</th>\n",
       "      <th>psychologicaldisordermajor</th>\n",
       "      <th>depress</th>\n",
       "      <th>psychother</th>\n",
       "      <th>fibrosisandother</th>\n",
       "      <th>malnutrition</th>\n",
       "      <th>hemo</th>\n",
       "      <th>hematocrit</th>\n",
       "      <th>neutrophils</th>\n",
       "      <th>sodium</th>\n",
       "      <th>glucose</th>\n",
       "      <th>bloodureanitro</th>\n",
       "      <th>creatinine</th>\n",
       "      <th>bmi</th>\n",
       "      <th>pulse</th>\n",
       "      <th>respiration</th>\n",
       "      <th>secondarydiagnosisnonicd9</th>\n",
       "      <th>facid</th>\n",
       "      <th>daysofweek_admit</th>\n",
       "    </tr>\n",
       "  </thead>\n",
       "  <tbody>\n",
       "    <tr>\n",
       "      <th>70589</th>\n",
       "      <td>0</td>\n",
       "      <td>1</td>\n",
       "      <td>0</td>\n",
       "      <td>0</td>\n",
       "      <td>0</td>\n",
       "      <td>0</td>\n",
       "      <td>0</td>\n",
       "      <td>0</td>\n",
       "      <td>0</td>\n",
       "      <td>0</td>\n",
       "      <td>0</td>\n",
       "      <td>0</td>\n",
       "      <td>0</td>\n",
       "      <td>11.9</td>\n",
       "      <td>9.4</td>\n",
       "      <td>135.149424</td>\n",
       "      <td>136.819548</td>\n",
       "      <td>12.0</td>\n",
       "      <td>1.303508</td>\n",
       "      <td>32.424760</td>\n",
       "      <td>77</td>\n",
       "      <td>6.5</td>\n",
       "      <td>1</td>\n",
       "      <td>1</td>\n",
       "      <td>2</td>\n",
       "    </tr>\n",
       "    <tr>\n",
       "      <th>38352</th>\n",
       "      <td>1</td>\n",
       "      <td>1</td>\n",
       "      <td>0</td>\n",
       "      <td>0</td>\n",
       "      <td>0</td>\n",
       "      <td>0</td>\n",
       "      <td>0</td>\n",
       "      <td>0</td>\n",
       "      <td>0</td>\n",
       "      <td>0</td>\n",
       "      <td>0</td>\n",
       "      <td>0</td>\n",
       "      <td>0</td>\n",
       "      <td>13.2</td>\n",
       "      <td>19.9</td>\n",
       "      <td>137.914194</td>\n",
       "      <td>186.890034</td>\n",
       "      <td>5.5</td>\n",
       "      <td>0.983861</td>\n",
       "      <td>30.423491</td>\n",
       "      <td>83</td>\n",
       "      <td>6.5</td>\n",
       "      <td>1</td>\n",
       "      <td>1</td>\n",
       "      <td>4</td>\n",
       "    </tr>\n",
       "    <tr>\n",
       "      <th>26085</th>\n",
       "      <td>0</td>\n",
       "      <td>1</td>\n",
       "      <td>0</td>\n",
       "      <td>0</td>\n",
       "      <td>0</td>\n",
       "      <td>0</td>\n",
       "      <td>0</td>\n",
       "      <td>0</td>\n",
       "      <td>0</td>\n",
       "      <td>0</td>\n",
       "      <td>0</td>\n",
       "      <td>0</td>\n",
       "      <td>0</td>\n",
       "      <td>11.9</td>\n",
       "      <td>9.4</td>\n",
       "      <td>133.350628</td>\n",
       "      <td>144.542363</td>\n",
       "      <td>12.0</td>\n",
       "      <td>1.343477</td>\n",
       "      <td>28.339398</td>\n",
       "      <td>59</td>\n",
       "      <td>6.5</td>\n",
       "      <td>1</td>\n",
       "      <td>0</td>\n",
       "      <td>0</td>\n",
       "    </tr>\n",
       "    <tr>\n",
       "      <th>23356</th>\n",
       "      <td>2</td>\n",
       "      <td>0</td>\n",
       "      <td>0</td>\n",
       "      <td>0</td>\n",
       "      <td>0</td>\n",
       "      <td>0</td>\n",
       "      <td>0</td>\n",
       "      <td>0</td>\n",
       "      <td>0</td>\n",
       "      <td>0</td>\n",
       "      <td>0</td>\n",
       "      <td>0</td>\n",
       "      <td>0</td>\n",
       "      <td>11.3</td>\n",
       "      <td>7.4</td>\n",
       "      <td>139.068149</td>\n",
       "      <td>127.209380</td>\n",
       "      <td>17.0</td>\n",
       "      <td>0.697302</td>\n",
       "      <td>33.659150</td>\n",
       "      <td>84</td>\n",
       "      <td>7.1</td>\n",
       "      <td>4</td>\n",
       "      <td>1</td>\n",
       "      <td>4</td>\n",
       "    </tr>\n",
       "    <tr>\n",
       "      <th>93277</th>\n",
       "      <td>4</td>\n",
       "      <td>1</td>\n",
       "      <td>0</td>\n",
       "      <td>0</td>\n",
       "      <td>0</td>\n",
       "      <td>0</td>\n",
       "      <td>0</td>\n",
       "      <td>0</td>\n",
       "      <td>0</td>\n",
       "      <td>0</td>\n",
       "      <td>0</td>\n",
       "      <td>0</td>\n",
       "      <td>0</td>\n",
       "      <td>12.0</td>\n",
       "      <td>9.3</td>\n",
       "      <td>136.239943</td>\n",
       "      <td>162.044287</td>\n",
       "      <td>12.0</td>\n",
       "      <td>1.018530</td>\n",
       "      <td>28.451117</td>\n",
       "      <td>77</td>\n",
       "      <td>6.5</td>\n",
       "      <td>1</td>\n",
       "      <td>0</td>\n",
       "      <td>5</td>\n",
       "    </tr>\n",
       "    <tr>\n",
       "      <th>...</th>\n",
       "      <td>...</td>\n",
       "      <td>...</td>\n",
       "      <td>...</td>\n",
       "      <td>...</td>\n",
       "      <td>...</td>\n",
       "      <td>...</td>\n",
       "      <td>...</td>\n",
       "      <td>...</td>\n",
       "      <td>...</td>\n",
       "      <td>...</td>\n",
       "      <td>...</td>\n",
       "      <td>...</td>\n",
       "      <td>...</td>\n",
       "      <td>...</td>\n",
       "      <td>...</td>\n",
       "      <td>...</td>\n",
       "      <td>...</td>\n",
       "      <td>...</td>\n",
       "      <td>...</td>\n",
       "      <td>...</td>\n",
       "      <td>...</td>\n",
       "      <td>...</td>\n",
       "      <td>...</td>\n",
       "      <td>...</td>\n",
       "      <td>...</td>\n",
       "    </tr>\n",
       "    <tr>\n",
       "      <th>15089</th>\n",
       "      <td>0</td>\n",
       "      <td>0</td>\n",
       "      <td>0</td>\n",
       "      <td>0</td>\n",
       "      <td>0</td>\n",
       "      <td>0</td>\n",
       "      <td>0</td>\n",
       "      <td>1</td>\n",
       "      <td>1</td>\n",
       "      <td>0</td>\n",
       "      <td>0</td>\n",
       "      <td>0</td>\n",
       "      <td>0</td>\n",
       "      <td>11.3</td>\n",
       "      <td>6.2</td>\n",
       "      <td>135.194680</td>\n",
       "      <td>145.220209</td>\n",
       "      <td>10.0</td>\n",
       "      <td>0.991586</td>\n",
       "      <td>30.821934</td>\n",
       "      <td>63</td>\n",
       "      <td>6.5</td>\n",
       "      <td>1</td>\n",
       "      <td>4</td>\n",
       "      <td>1</td>\n",
       "    </tr>\n",
       "    <tr>\n",
       "      <th>3373</th>\n",
       "      <td>0</td>\n",
       "      <td>1</td>\n",
       "      <td>0</td>\n",
       "      <td>0</td>\n",
       "      <td>0</td>\n",
       "      <td>0</td>\n",
       "      <td>0</td>\n",
       "      <td>1</td>\n",
       "      <td>0</td>\n",
       "      <td>1</td>\n",
       "      <td>0</td>\n",
       "      <td>0</td>\n",
       "      <td>0</td>\n",
       "      <td>9.0</td>\n",
       "      <td>8.3</td>\n",
       "      <td>132.345795</td>\n",
       "      <td>102.439809</td>\n",
       "      <td>18.0</td>\n",
       "      <td>0.992075</td>\n",
       "      <td>28.639330</td>\n",
       "      <td>58</td>\n",
       "      <td>4.1</td>\n",
       "      <td>0</td>\n",
       "      <td>4</td>\n",
       "      <td>1</td>\n",
       "    </tr>\n",
       "    <tr>\n",
       "      <th>28567</th>\n",
       "      <td>2</td>\n",
       "      <td>1</td>\n",
       "      <td>0</td>\n",
       "      <td>0</td>\n",
       "      <td>0</td>\n",
       "      <td>0</td>\n",
       "      <td>0</td>\n",
       "      <td>0</td>\n",
       "      <td>0</td>\n",
       "      <td>0</td>\n",
       "      <td>0</td>\n",
       "      <td>0</td>\n",
       "      <td>0</td>\n",
       "      <td>16.3</td>\n",
       "      <td>5.4</td>\n",
       "      <td>138.997057</td>\n",
       "      <td>151.511945</td>\n",
       "      <td>9.0</td>\n",
       "      <td>1.199748</td>\n",
       "      <td>32.115403</td>\n",
       "      <td>82</td>\n",
       "      <td>6.5</td>\n",
       "      <td>5</td>\n",
       "      <td>1</td>\n",
       "      <td>1</td>\n",
       "    </tr>\n",
       "    <tr>\n",
       "      <th>92638</th>\n",
       "      <td>5</td>\n",
       "      <td>1</td>\n",
       "      <td>0</td>\n",
       "      <td>0</td>\n",
       "      <td>0</td>\n",
       "      <td>0</td>\n",
       "      <td>0</td>\n",
       "      <td>0</td>\n",
       "      <td>0</td>\n",
       "      <td>0</td>\n",
       "      <td>0</td>\n",
       "      <td>1</td>\n",
       "      <td>0</td>\n",
       "      <td>10.6</td>\n",
       "      <td>8.3</td>\n",
       "      <td>141.259103</td>\n",
       "      <td>167.875521</td>\n",
       "      <td>22.0</td>\n",
       "      <td>1.107491</td>\n",
       "      <td>29.306433</td>\n",
       "      <td>70</td>\n",
       "      <td>5.2</td>\n",
       "      <td>3</td>\n",
       "      <td>2</td>\n",
       "      <td>3</td>\n",
       "    </tr>\n",
       "    <tr>\n",
       "      <th>78308</th>\n",
       "      <td>0</td>\n",
       "      <td>1</td>\n",
       "      <td>0</td>\n",
       "      <td>0</td>\n",
       "      <td>1</td>\n",
       "      <td>1</td>\n",
       "      <td>0</td>\n",
       "      <td>1</td>\n",
       "      <td>0</td>\n",
       "      <td>1</td>\n",
       "      <td>0</td>\n",
       "      <td>0</td>\n",
       "      <td>1</td>\n",
       "      <td>7.7</td>\n",
       "      <td>7.9</td>\n",
       "      <td>143.912736</td>\n",
       "      <td>187.718170</td>\n",
       "      <td>37.0</td>\n",
       "      <td>1.247519</td>\n",
       "      <td>31.297595</td>\n",
       "      <td>72</td>\n",
       "      <td>1.9</td>\n",
       "      <td>1</td>\n",
       "      <td>3</td>\n",
       "      <td>5</td>\n",
       "    </tr>\n",
       "  </tbody>\n",
       "</table>\n",
       "<p>30000 rows × 25 columns</p>\n",
       "</div>"
      ],
      "text/plain": [
       "       rcount  gender  dialysisrenalendstage  asthma  irondef  pneum  \\\n",
       "70589       0       1                      0       0        0      0   \n",
       "38352       1       1                      0       0        0      0   \n",
       "26085       0       1                      0       0        0      0   \n",
       "23356       2       0                      0       0        0      0   \n",
       "93277       4       1                      0       0        0      0   \n",
       "...       ...     ...                    ...     ...      ...    ...   \n",
       "15089       0       0                      0       0        0      0   \n",
       "3373        0       1                      0       0        0      0   \n",
       "28567       2       1                      0       0        0      0   \n",
       "92638       5       1                      0       0        0      0   \n",
       "78308       0       1                      0       0        1      1   \n",
       "\n",
       "       substancedependence  psychologicaldisordermajor  depress  psychother  \\\n",
       "70589                    0                           0        0           0   \n",
       "38352                    0                           0        0           0   \n",
       "26085                    0                           0        0           0   \n",
       "23356                    0                           0        0           0   \n",
       "93277                    0                           0        0           0   \n",
       "...                    ...                         ...      ...         ...   \n",
       "15089                    0                           1        1           0   \n",
       "3373                     0                           1        0           1   \n",
       "28567                    0                           0        0           0   \n",
       "92638                    0                           0        0           0   \n",
       "78308                    0                           1        0           1   \n",
       "\n",
       "       fibrosisandother  malnutrition  hemo  hematocrit  neutrophils  \\\n",
       "70589                 0             0     0        11.9          9.4   \n",
       "38352                 0             0     0        13.2         19.9   \n",
       "26085                 0             0     0        11.9          9.4   \n",
       "23356                 0             0     0        11.3          7.4   \n",
       "93277                 0             0     0        12.0          9.3   \n",
       "...                 ...           ...   ...         ...          ...   \n",
       "15089                 0             0     0        11.3          6.2   \n",
       "3373                  0             0     0         9.0          8.3   \n",
       "28567                 0             0     0        16.3          5.4   \n",
       "92638                 0             1     0        10.6          8.3   \n",
       "78308                 0             0     1         7.7          7.9   \n",
       "\n",
       "           sodium     glucose  bloodureanitro  creatinine        bmi  pulse  \\\n",
       "70589  135.149424  136.819548            12.0    1.303508  32.424760     77   \n",
       "38352  137.914194  186.890034             5.5    0.983861  30.423491     83   \n",
       "26085  133.350628  144.542363            12.0    1.343477  28.339398     59   \n",
       "23356  139.068149  127.209380            17.0    0.697302  33.659150     84   \n",
       "93277  136.239943  162.044287            12.0    1.018530  28.451117     77   \n",
       "...           ...         ...             ...         ...        ...    ...   \n",
       "15089  135.194680  145.220209            10.0    0.991586  30.821934     63   \n",
       "3373   132.345795  102.439809            18.0    0.992075  28.639330     58   \n",
       "28567  138.997057  151.511945             9.0    1.199748  32.115403     82   \n",
       "92638  141.259103  167.875521            22.0    1.107491  29.306433     70   \n",
       "78308  143.912736  187.718170            37.0    1.247519  31.297595     72   \n",
       "\n",
       "       respiration  secondarydiagnosisnonicd9  facid  daysofweek_admit  \n",
       "70589          6.5                          1      1                 2  \n",
       "38352          6.5                          1      1                 4  \n",
       "26085          6.5                          1      0                 0  \n",
       "23356          7.1                          4      1                 4  \n",
       "93277          6.5                          1      0                 5  \n",
       "...            ...                        ...    ...               ...  \n",
       "15089          6.5                          1      4                 1  \n",
       "3373           4.1                          0      4                 1  \n",
       "28567          6.5                          5      1                 1  \n",
       "92638          5.2                          3      2                 3  \n",
       "78308          1.9                          1      3                 5  \n",
       "\n",
       "[30000 rows x 25 columns]"
      ]
     },
     "execution_count": 361,
     "metadata": {},
     "output_type": "execute_result"
    }
   ],
   "source": [
    "X_test"
   ]
  },
  {
   "cell_type": "code",
   "execution_count": 369,
   "metadata": {
    "ExecuteTime": {
     "end_time": "2020-11-25T14:47:01.399442Z",
     "start_time": "2020-11-25T14:47:01.394736Z"
    }
   },
   "outputs": [
    {
     "data": {
      "text/plain": [
       "70589    1\n",
       "38352    3\n",
       "26085    3\n",
       "23356    5\n",
       "93277    6\n",
       "        ..\n",
       "15089    3\n",
       "3373     8\n",
       "28567    5\n",
       "92638    8\n",
       "78308    9\n",
       "Name: lengthofstay, Length: 30000, dtype: int64"
      ]
     },
     "execution_count": 369,
     "metadata": {},
     "output_type": "execute_result"
    }
   ],
   "source": [
    "y_test"
   ]
  },
  {
   "cell_type": "code",
   "execution_count": 319,
   "metadata": {
    "ExecuteTime": {
     "end_time": "2020-11-25T10:50:48.269486Z",
     "start_time": "2020-11-25T10:50:45.889909Z"
    }
   },
   "outputs": [],
   "source": [
    "model_imp = pickle.load(open('/Users/anthonycoplo/Desktop/model/LOS_model.pkl', 'rb'))"
   ]
  },
  {
   "cell_type": "code",
   "execution_count": 342,
   "metadata": {
    "ExecuteTime": {
     "end_time": "2020-11-25T10:57:10.486459Z",
     "start_time": "2020-11-25T10:57:10.482444Z"
    }
   },
   "outputs": [],
   "source": [
    "res = X_test.loc[70589]"
   ]
  },
  {
   "cell_type": "code",
   "execution_count": 343,
   "metadata": {
    "ExecuteTime": {
     "end_time": "2020-11-25T10:57:17.881175Z",
     "start_time": "2020-11-25T10:57:17.875667Z"
    }
   },
   "outputs": [
    {
     "data": {
      "text/plain": [
       "rcount                        0.0\n",
       "gender                        1.0\n",
       "dialysisrenalendstage         0.0\n",
       "asthma                        0.0\n",
       "irondef                       0.0\n",
       "                             ... \n",
       "pulse                        77.0\n",
       "respiration                   6.5\n",
       "secondarydiagnosisnonicd9     1.0\n",
       "facid                         1.0\n",
       "daysofweek_admit              2.0\n",
       "Name: 70589, Length: 25, dtype: float64"
      ]
     },
     "execution_count": 343,
     "metadata": {},
     "output_type": "execute_result"
    }
   ],
   "source": [
    "res"
   ]
  },
  {
   "cell_type": "code",
   "execution_count": 358,
   "metadata": {
    "ExecuteTime": {
     "end_time": "2020-11-25T11:06:29.141122Z",
     "start_time": "2020-11-25T11:06:29.027367Z"
    }
   },
   "outputs": [],
   "source": [
    "y_pred_v = model_imp.predict([['0','1','0','0','0','0','0','0', '0', '0', '0','0','0','11.9','9.4','135.149424','136.819548','12.0','1.303508','32.424760','77','6.5','1','1','2']])"
   ]
  },
  {
   "cell_type": "code",
   "execution_count": 359,
   "metadata": {
    "ExecuteTime": {
     "end_time": "2020-11-25T11:06:31.252394Z",
     "start_time": "2020-11-25T11:06:31.248648Z"
    }
   },
   "outputs": [
    {
     "data": {
      "text/plain": [
       "array([1.])"
      ]
     },
     "execution_count": 359,
     "metadata": {},
     "output_type": "execute_result"
    }
   ],
   "source": [
    "y_pred_v"
   ]
  },
  {
   "cell_type": "code",
   "execution_count": 368,
   "metadata": {
    "ExecuteTime": {
     "end_time": "2020-11-25T14:45:06.265084Z",
     "start_time": "2020-11-25T14:45:06.261335Z"
    }
   },
   "outputs": [
    {
     "data": {
      "text/plain": [
       "'1.0'"
      ]
     },
     "execution_count": 368,
     "metadata": {},
     "output_type": "execute_result"
    }
   ],
   "source": [
    "str(y_pred_v.item())"
   ]
  },
  {
   "cell_type": "code",
   "execution_count": 373,
   "metadata": {
    "ExecuteTime": {
     "end_time": "2020-11-25T15:12:35.453292Z",
     "start_time": "2020-11-25T15:12:35.447509Z"
    }
   },
   "outputs": [
    {
     "data": {
      "text/plain": [
       "4    9266\n",
       "1    9032\n",
       "0    8860\n",
       "2    1447\n",
       "3    1395\n",
       "Name: facid, dtype: int64"
      ]
     },
     "execution_count": 373,
     "metadata": {},
     "output_type": "execute_result"
    }
   ],
   "source": [
    "X_test[\"facid\"].value_counts()"
   ]
  },
  {
   "cell_type": "code",
   "execution_count": 374,
   "metadata": {
    "ExecuteTime": {
     "end_time": "2020-11-25T16:25:20.352587Z",
     "start_time": "2020-11-25T16:24:45.323641Z"
    }
   },
   "outputs": [
    {
     "name": "stdout",
     "output_type": "stream",
     "text": [
      "\n",
      "Please wait a moment while I gather a list of all available modules...\n",
      "\n"
     ]
    },
    {
     "name": "stderr",
     "output_type": "stream",
     "text": [
      "/Users/anthonycoplo/opt/anaconda3/lib/python3.7/site-packages/Bio/Align/substitution_matrices/__init__.py:21: BiopythonExperimentalWarning: Bio.Align.substitution_matrices is an experimental module which may still undergo significant changes. In particular, the location of this module may change, and the Array class defined in this module may be moved to other existing or new modules in Biopython.\n",
      "  BiopythonExperimentalWarning)\n",
      "/Users/anthonycoplo/opt/anaconda3/lib/python3.7/site-packages/Bio/Crystal/__init__.py:44: BiopythonDeprecationWarning: Bio.Crystal has been deprecated, and we intend to remove it in a future release of Biopython. Please use Bio.PDB instead to parse NDB files.\n",
      "  \" to parse NDB files.\", BiopythonDeprecationWarning)\n",
      "/Users/anthonycoplo/opt/anaconda3/lib/python3.7/site-packages/Bio/KDTree/__init__.py:27: BiopythonDeprecationWarning: Bio.KDTree has been deprecated, and we intend to remove it in a future release of Biopython. Please use Bio.PDB.kdtrees instead, which is functionally very similar.\n",
      "  BiopythonDeprecationWarning,\n",
      "/Users/anthonycoplo/opt/anaconda3/lib/python3.7/site-packages/Bio/Statistics/__init__.py:15: BiopythonDeprecationWarning: Bio.Statistics has been deprecated, and we intend to remove it in a future release of Biopython.\n",
      "  \"in a future release of Biopython.\", BiopythonDeprecationWarning)\n",
      "/Users/anthonycoplo/opt/anaconda3/lib/python3.7/site-packages/Bio/codonalign/__init__.py:27: BiopythonExperimentalWarning: Bio.codonalign is an experimental module which may undergo significant changes prior to its future official release.\n",
      "  BiopythonExperimentalWarning)\n",
      "/Users/anthonycoplo/opt/anaconda3/lib/python3.7/site-packages/Bio/phenotype/__init__.py:100: BiopythonExperimentalWarning: Bio.phenotype is an experimental submodule which may undergo significant changes prior to its future official release.\n",
      "  BiopythonExperimentalWarning,\n",
      "/Users/anthonycoplo/opt/anaconda3/lib/python3.7/site-packages/IPython/kernel/__init__.py:13: ShimWarning: The `IPython.kernel` package has been deprecated since IPython 4.0.You should import from ipykernel or jupyter_client instead.\n",
      "  \"You should import from ipykernel or jupyter_client instead.\", ShimWarning)\n",
      "WARNING:root:This caffe2 python run does not have GPU support. Will run in CPU only mode.\n",
      "/Users/anthonycoplo/opt/anaconda3/lib/python3.7/pkgutil.py:92: MatplotlibDeprecationWarning: \n",
      "The matplotlib.compat module was deprecated in Matplotlib 3.3 and will be removed two minor releases later.\n",
      "  __import__(info.name)\n",
      "/Users/anthonycoplo/opt/anaconda3/lib/python3.7/site-packages/sklearn/utils/deprecation.py:143: FutureWarning:\n",
      "\n",
      "The sklearn.metrics.classification module is  deprecated in version 0.22 and will be removed in version 0.24. The corresponding classes / functions should instead be imported from sklearn.metrics. Anything that cannot be imported from sklearn.metrics is now part of the private API.\n",
      "\n",
      "/Users/anthonycoplo/opt/anaconda3/lib/python3.7/pkgutil.py:107: VisibleDeprecationWarning:\n",
      "\n",
      "zmq.eventloop.minitornado is deprecated in pyzmq 14.0 and will be removed.\n",
      "    Install tornado itself to use zmq with the tornado IOLoop.\n",
      "    \n",
      "\n"
     ]
    },
    {
     "name": "stdout",
     "output_type": "stream",
     "text": [
      "AnyQt               brain_numpy_core_multiarray joblib              reprlib\n",
      "Bio                 brain_numpy_core_numeric json                requests\n",
      "BioSQL              brain_numpy_core_numerictypes json5               requests_oauthlib\n",
      "IPython             brain_numpy_core_umath jsonschema          resource\n",
      "OpenSSL             brain_numpy_ndarray jupyter             retrying\n",
      "Orange              brain_numpy_random_mtrand jupyter_client      rlcompleter\n",
      "PIL                 brain_numpy_utils   jupyter_contrib_core rmagic\n",
      "PyQt5               brain_pkg_resources jupyter_contrib_nbextensions ruamel_yaml\n",
      "__future__          brain_pytest        jupyter_core        runpy\n",
      "_abc                brain_qt            jupyter_highlight_selected_word s3transfer\n",
      "_ast                brain_random        jupyter_nbextensions_configurator sacrebleu\n",
      "_asyncio            brain_re            jupyterlab          sacremoses\n",
      "_bisect             brain_responses     jupyterlab_pygments sched\n",
      "_blake2             brain_scipy_signal  jupyterlab_server   scipy\n",
      "_bootlocale         brain_six           keyring             score\n",
      "_bz2                brain_ssl           keyrings            scripts\n",
      "_cffi_backend       brain_subprocess    keyword             seaborn\n",
      "_codecs             brain_threading     kiwisolver          secrets\n",
      "_codecs_cn          brain_typing        kmodes              select\n",
      "_codecs_hk          brain_uuid          latex_envs          selectors\n",
      "_codecs_iso2022     brotli              lazy_object_proxy   send2trash\n",
      "_codecs_jp          bs4                 lib2to3             sentence_transformers\n",
      "_codecs_kr          builtins            libarchive          sentencepiece\n",
      "_codecs_tw          bz2                 libfuturize         serverfiles\n",
      "_collections        cProfile            libpasteurize       setup\n",
      "_collections_abc    cachecontrol        lief                setuptools\n",
      "_compat_pickle      caffe2              linecache           setuptools_git\n",
      "_compression        calendar            llvmlite            shelve\n",
      "_contextvars        catalogue           locale              shlex\n",
      "_crypt              certifi             lockfile            shutil\n",
      "_csv                cffi                logging             signal\n",
      "_ctypes             cgi                 lxml                simhash\n",
      "_ctypes_test        cgitb               lzma                sip\n",
      "_curses             chardet             macpath             sipconfig\n",
      "_curses_panel       chunk               mailbox             sipdistutils\n",
      "_datetime           click               mailcap             site\n",
      "_dbm                cltk                mako                six\n",
      "_decimal            clyent              markupsafe          sklearn\n",
      "_distutils_hack     cmath               marshal             smart_open\n",
      "_dummy_thread       cmd                 math                smmap\n",
      "_elementtree        code                matplotlib          smtpd\n",
      "_functools          codecs              mccabe              smtplib\n",
      "_hashlib            codeop              mimetypes           sndhdr\n",
      "_heapq              collections         mistune             socket\n",
      "_imp                colorsys            mkl                 socketserver\n",
      "_io                 commonmark          mkl_fft             socks\n",
      "_json               community           mkl_random          sockshandler\n",
      "_locale             compileall          mlflow              soupsieve\n",
      "_lsprof             concurrent          mmap                spacy\n",
      "_lzma               conda               modulefinder        spacy_lookups_data\n",
      "_markupbase         conda_build         more_itertools      sqlite3\n",
      "_md5                conda_env           msgpack             sqlparse\n",
      "_multibytecodec     conda_package_handling msrest              sre_compile\n",
      "_multiprocessing    conda_verify        multiprocessing     sre_constants\n",
      "_opcode             configparser        multitasking        sre_parse\n",
      "_operator           contextlib          murmurhash          srsly\n",
      "_osx_support        contextvars         navigator_updater   ssl\n",
      "_pickle             copy                nbclient            stat\n",
      "_plotly_future_     copyreg             nbconvert           statistics\n",
      "_plotly_utils       crypt               nbformat            statsmodels\n",
      "_posixsubprocess    cryptography        nest_asyncio        storemagic\n",
      "_py_abc             csv                 netrc               string\n",
      "_pydecimal          ctypes              networkx            stringprep\n",
      "_pyio               curses              nis                 struct\n",
      "_pyrsistent_version cycler              nntplib             subprocess\n",
      "_pytest             cymem               notebook            sunau\n",
      "_queue              cythonmagic         ntpath              surprise\n",
      "_random             databricks_cli      nturl2path          symbol\n",
      "_scproxy            dataclasses         numba               sympyprinting\n",
      "_sentencepiece      datetime            numbers             symtable\n",
      "_sha1               dateutil            numexpr             sys\n",
      "_sha256             dbm                 numpy               sysconfig\n",
      "_sha3               decimal             oauthlib            syslog\n",
      "_sha512             decorator           odf                 tabnanny\n",
      "_signal             defusedxml          olefile             tabulate\n",
      "_sitebuiltins       dictdiffer          opcode              tarfile\n",
      "_socket             difflib             openTSNE            telnetlib\n",
      "_sqlite3            dis                 operator            tempfile\n",
      "_sre                distutils           optparse            terminado\n",
      "_ssl                docker              orangecanvas        termios\n",
      "_stat               doctest             orangewidget        test\n",
      "_string             docutils            os                  test_data\n",
      "_strptime           docx2txt            packaging           test_pycosat\n",
      "_struct             dummy_threading     pandas              testpath\n",
      "_symtable           easy_install        pandas_datareader   tests\n",
      "_sysconfigdata_i686_conda_cos6_linux_gnu editor              pandocfilters       textwrap\n",
      "_sysconfigdata_m_darwin_darwin email               parser              thinc\n",
      "_sysconfigdata_powerpc64le_conda_cos7_linux_gnu encodings           parso               this\n",
      "_sysconfigdata_x86_64_apple_darwin13_4_0 ensurepip           past                threading\n",
      "_sysconfigdata_x86_64_conda_cos6_linux_gnu entrypoints         pathlib             threadpoolctl\n",
      "_testbuffer         enum                patsy               time\n",
      "_testcapi           errno               pdb                 timeit\n",
      "_testimportmultiple eval_lm             pdfminer            tkinter\n",
      "_testmultiphase     examples            pexpect             token\n",
      "_thread             fairseq             pickle              tokenize\n",
      "_threading_local    fairseq_cli         pickleshare         tokenizers\n",
      "_tkinter            faulthandler        pickletools         toml\n",
      "_tracemalloc        fcntl               pip                 torch\n",
      "_uuid               filecmp             pipes               torchvision\n",
      "_warnings           fileinput           pkg_resources       tornado\n",
      "_weakref            filelock            pkginfo             tqdm\n",
      "_weakrefset         flask               pkgutil             trace\n",
      "_xxtestfuzz         flask_cors          plac                traceback\n",
      "_yaml               fnmatch             plac_core           tracemalloc\n",
      "abc                 formatter           plac_ext            train\n",
      "aifc                fr_core_news_sm     plac_tk             traitlets\n",
      "alembic             fractions           platform            transformers\n",
      "anaconda_navigator  ftplib              plistlib            tty\n",
      "antigravity         functools           plotly              turtle\n",
      "appnope             funcy               plotly_express      turtledemo\n",
      "argon2              future              plotlywidget        tweepy\n",
      "argparse            gc                  pluggy              typed_ast\n",
      "array               generate            poplib              types\n",
      "ast                 genericpath         portalocker         typing\n",
      "astroid             gensim              portalocker_tests   ufal\n",
      "async_generator     getopt              posix               unicodedata\n",
      "asynchat            getpass             posixpath           unittest\n",
      "asyncio             gettext             pprint              urllib\n",
      "asyncore            git                 preprocess          urllib3\n",
      "atexit              gitdb               preshed             uu\n",
      "attr                glob                profile             uuid\n",
      "audioop             glob2               prometheus_client   validate\n",
      "autoreload          gorilla             prometheus_flask_exporter venv\n",
      "backcall            grp                 prompt_toolkit      warnings\n",
      "backports           gunicorn            pstats              wasabi\n",
      "base64              gzip                psutil              wave\n",
      "bdb                 hashlib             ptr                 wcwidth\n",
      "bin                 heapq               pty                 weakref\n",
      "binascii            hmac                ptyprocess          webbrowser\n",
      "binhex              html                pvectorc            webencodings\n",
      "binstar_client      http                pwd                 websocket\n",
      "bisect              hubconf             py                  werkzeug\n",
      "bleach              ibm_boto3           pyLDAvis            wheel\n",
      "blis                ibm_botocore        py_compile          whoosh\n",
      "boto3               ibm_s3transfer      pyclbr              widgetsnbextension\n",
      "botocore            idlelib             pycosat             wikipedia\n",
      "bottle              idna                pycparser           wordcloud\n",
      "bottleneck          imaplib             pycrfsuite          wrapt\n",
      "brain_argparse      imghdr              pydoc               wsgiref\n",
      "brain_attrs         imp                 pydoc_data          xdrlib\n",
      "brain_boto3         importlib           pyexpat             xlrd\n",
      "brain_builtin_inference importlib_metadata  pygments            xlsxwriter\n",
      "brain_collections   iniconfig           pylab               xml\n",
      "brain_crypt         inspect             pylint              xmlrpc\n",
      "brain_curses        integration         pynndescent         xmltodict\n",
      "brain_dataclasses   interactive         pyparsing           xxlimited\n",
      "brain_dateutil      io                  pyqtgraph           xxsubtype\n",
      "brain_fstrings      ipaddress           pyrsistent          yaml\n",
      "brain_functools     ipykernel           pytest              yellowbrick\n",
      "brain_gi            ipykernel_launcher  pytz                yfinance\n",
      "brain_hashlib       ipython_genutils    pyuca               zipapp\n",
      "brain_http          ipywidgets          qtpy                zipfile\n",
      "brain_io            isodate             querystring_parser  zipfile36\n",
      "brain_mechanize     isort               queue               zipimport\n",
      "brain_multiprocessing itertools           quopri              zipp\n",
      "brain_namedtuple_enum itsdangerous        random              zlib\n",
      "brain_nose          jedi                re                  zmq\n",
      "brain_numpy_core_fromnumeric jinja2              readline            \n",
      "brain_numpy_core_function_base jmespath            regex               \n",
      "\n",
      "Enter any module name to get more help.  Or, type \"modules spam\" to search\n",
      "for modules whose name or summary contain the string \"spam\".\n",
      "\n"
     ]
    }
   ],
   "source": [
    "help(\"modules\")"
   ]
  },
  {
   "cell_type": "code",
   "execution_count": null,
   "metadata": {},
   "outputs": [],
   "source": []
  }
 ],
 "metadata": {
  "kernelspec": {
   "display_name": "Python 3",
   "language": "python",
   "name": "python3"
  },
  "language_info": {
   "codemirror_mode": {
    "name": "ipython",
    "version": 3
   },
   "file_extension": ".py",
   "mimetype": "text/x-python",
   "name": "python",
   "nbconvert_exporter": "python",
   "pygments_lexer": "ipython3",
   "version": "3.7.4"
  },
  "toc": {
   "base_numbering": 1,
   "nav_menu": {},
   "number_sections": true,
   "sideBar": true,
   "skip_h1_title": false,
   "title_cell": "Table of Contents",
   "title_sidebar": "Contents",
   "toc_cell": false,
   "toc_position": {},
   "toc_section_display": true,
   "toc_window_display": false
  },
  "varInspector": {
   "cols": {
    "lenName": 16,
    "lenType": 16,
    "lenVar": 40
   },
   "kernels_config": {
    "python": {
     "delete_cmd_postfix": "",
     "delete_cmd_prefix": "del ",
     "library": "var_list.py",
     "varRefreshCmd": "print(var_dic_list())"
    },
    "r": {
     "delete_cmd_postfix": ") ",
     "delete_cmd_prefix": "rm(",
     "library": "var_list.r",
     "varRefreshCmd": "cat(var_dic_list()) "
    }
   },
   "types_to_exclude": [
    "module",
    "function",
    "builtin_function_or_method",
    "instance",
    "_Feature"
   ],
   "window_display": false
  }
 },
 "nbformat": 4,
 "nbformat_minor": 4
}
